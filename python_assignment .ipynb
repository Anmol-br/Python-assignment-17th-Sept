{
 "cells": [
  {
   "cell_type": "markdown",
   "id": "8f64a7cc-9542-450e-aa87-7fbaf4f891e3",
   "metadata": {},
   "source": [
    "For Loop :-\n"
   ]
  },
  {
   "cell_type": "markdown",
   "id": "494b3eba-320d-4eae-8578-6113f2b36fa3",
   "metadata": {},
   "source": [
    "1. Write a Python program to print numbers from 1 to 10 using a for loop."
   ]
  },
  {
   "cell_type": "code",
   "execution_count": 1,
   "id": "153f4930-384d-4113-ba52-86855b93ac1f",
   "metadata": {},
   "outputs": [
    {
     "name": "stdout",
     "output_type": "stream",
     "text": [
      "1\n",
      "2\n",
      "3\n",
      "4\n",
      "5\n",
      "6\n",
      "7\n",
      "8\n",
      "9\n",
      "10\n"
     ]
    }
   ],
   "source": [
    "n = 10\n",
    "\n",
    "for i in range(1, n+1):\n",
    "    print(i)"
   ]
  },
  {
   "cell_type": "markdown",
   "id": "39acf1a4-7f3a-4ca5-ae88-00261e21f1f4",
   "metadata": {},
   "source": [
    "2. Explain the difference between a for loop and a while loop in Python."
   ]
  },
  {
   "cell_type": "code",
   "execution_count": 25,
   "id": "dcc02be2-082e-4edb-add4-d3b0bf798bb7",
   "metadata": {},
   "outputs": [
    {
     "data": {
      "text/plain": [
       "' 1. for loops are used when you know the number of iterations in advance,and while loops are used when you need to repeat a task until a\\nspecific condition is met or when the number of iterations is determined dynamically.\\n2. for loops have more predictable control flow since you know the number of iterations in advance.They are less prone to cause infinite\\nloops ,as long as the iterable is finite.\\n3. while loop requires careful handling of conditions to avoid infinite loops.If the condition never becomes false,the loop will run\\nindefinitely which can lead to program crashes.'"
      ]
     },
     "execution_count": 25,
     "metadata": {},
     "output_type": "execute_result"
    }
   ],
   "source": [
    "\n",
    "''' 1. for loops are used when you know the number of iterations in advance,and while loops are used when you need to repeat a task until a\n",
    "specific condition is met or when the number of iterations is determined dynamically.\n",
    "2. for loops have more predictable control flow since you know the number of iterations in advance.They are less prone to cause infinite\n",
    "loops ,as long as the iterable is finite.\n",
    "3. while loop requires careful handling of conditions to avoid infinite loops.If the condition never becomes false,the loop will run\n",
    "indefinitely which can lead to program crashes.'''"
   ]
  },
  {
   "cell_type": "markdown",
   "id": "848f6b4b-ab36-493a-a359-67d938ee4c54",
   "metadata": {},
   "source": [
    "3. Write a Python program to calculate the sum of all numbers from 1 to 100 using a for loop."
   ]
  },
  {
   "cell_type": "code",
   "execution_count": 6,
   "id": "43bdd748-5fb3-4ed6-a4b8-3267fa20c60d",
   "metadata": {},
   "outputs": [
    {
     "name": "stdout",
     "output_type": "stream",
     "text": [
      "The sum of numbers from 1 to 100 is: 5050\n"
     ]
    }
   ],
   "source": [
    "# Initialize a variable to store the sum\n",
    "total_sum = 0\n",
    "\n",
    "# Iterate through numbers from 1 to 100 and add them to the sum\n",
    "for num in range(1, 101):\n",
    "    total_sum += num\n",
    "\n",
    "# Print the sum\n",
    "print(\"The sum of numbers from 1 to 100 is:\", total_sum)\n"
   ]
  },
  {
   "cell_type": "markdown",
   "id": "635bb559-05f2-4bb9-8e3c-1990afc9e2fa",
   "metadata": {},
   "source": [
    "4. How do you iterate through a list using a for loop in Python?\n"
   ]
  },
  {
   "cell_type": "code",
   "execution_count": 1,
   "id": "fc159a0f-2918-4540-9952-1982556164b9",
   "metadata": {},
   "outputs": [
    {
     "name": "stdout",
     "output_type": "stream",
     "text": [
      "1\n",
      "3\n",
      "5\n",
      "7\n",
      "9\n"
     ]
    }
   ],
   "source": [
    "my_list = [1, 3, 5, 7, 9]\n",
    "\n",
    "for i in my_list:\n",
    "    print(i)\n"
   ]
  },
  {
   "cell_type": "markdown",
   "id": "8b5abc65-f8c7-409c-9ab1-028ca80fcf31",
   "metadata": {},
   "source": [
    "5. Write a Python program to find the product of all elements in a list using a for loop.\n"
   ]
  },
  {
   "cell_type": "code",
   "execution_count": 9,
   "id": "6da60015-552b-4006-a137-8d6a5320ef6d",
   "metadata": {},
   "outputs": [
    {
     "name": "stdout",
     "output_type": "stream",
     "text": [
      "The product of all elements in the list is: 120\n"
     ]
    }
   ],
   "source": [
    "# Sample list of numbers\n",
    "num_list = [2, 3, 4, 5]\n",
    "\n",
    "# Initialize a variable to store the product (start with 1 for multiplication)\n",
    "product = 1\n",
    "\n",
    "# Iterate through the list and multiply each element with the product\n",
    "for num in num_list:\n",
    "    product *= num\n",
    "\n",
    "# Print the final product\n",
    "print(\"The product of all elements in the list is:\", product)\n"
   ]
  },
  {
   "cell_type": "markdown",
   "id": "a240b1b4-fbaa-4e65-9f81-581f14548843",
   "metadata": {},
   "source": [
    "6. Create a Python program that prints all even numbers from 1 to 20 using a for loop.\n"
   ]
  },
  {
   "cell_type": "code",
   "execution_count": 10,
   "id": "907b94e8-78bc-42d4-8295-94c6f39a20c3",
   "metadata": {},
   "outputs": [
    {
     "name": "stdout",
     "output_type": "stream",
     "text": [
      "2\n",
      "4\n",
      "6\n",
      "8\n",
      "10\n",
      "12\n",
      "14\n",
      "16\n",
      "18\n",
      "20\n"
     ]
    }
   ],
   "source": [
    "# Iterate through numbers from 1 to 20 using a for loop\n",
    "for num in range(1, 21):\n",
    "    if num % 2 == 0:  # Check if the number is even\n",
    "        print(num)\n"
   ]
  },
  {
   "cell_type": "markdown",
   "id": "403f7a07-b32f-4899-9125-c5d2bed03bd9",
   "metadata": {},
   "source": [
    "7. Write a Python program that calculates the factorial of a number using a for loop."
   ]
  },
  {
   "cell_type": "code",
   "execution_count": 2,
   "id": "0ab873c7-0dcb-4005-ad4e-c686a1d5cabd",
   "metadata": {},
   "outputs": [
    {
     "name": "stdin",
     "output_type": "stream",
     "text": [
      "Enter a number to calculate its factorial:  6\n"
     ]
    },
    {
     "name": "stdout",
     "output_type": "stream",
     "text": [
      "The factorial of 6 is: 720\n"
     ]
    }
   ],
   "source": [
    "def factorial(n):\n",
    "    if n < 0:\n",
    "        return \"Factorial is not defined for negative numbers\"\n",
    "    elif n == 0 or n == 1:\n",
    "        return 1\n",
    "    else:\n",
    "        fact = 1\n",
    "        for i in range(2, n + 1):\n",
    "            fact *= i\n",
    "        return fact\n",
    "\n",
    "# Input a number\n",
    "num = int(input(\"Enter a number to calculate its factorial: \"))\n",
    "\n",
    "result = factorial(num)\n",
    "print(f\"The factorial of {num} is: {result}\")\n"
   ]
  },
  {
   "cell_type": "markdown",
   "id": "1c4e22f9-4524-4b72-abb7-fe29ef8edaaa",
   "metadata": {},
   "source": [
    "8. How can you iterate through the characters of a string using a for loop in Python?\n"
   ]
  },
  {
   "cell_type": "code",
   "execution_count": 4,
   "id": "058e7b0c-5f1a-47ab-8f60-a22c76b41735",
   "metadata": {},
   "outputs": [
    {
     "name": "stdout",
     "output_type": "stream",
     "text": [
      "N\n",
      "a\n",
      "i\n",
      "t\n",
      "i\n",
      "k\n",
      " \n",
      "M\n",
      "e\n",
      "h\n",
      "t\n",
      "a\n"
     ]
    }
   ],
   "source": [
    "my_string = \"Naitik Mehta\"\n",
    "\n",
    "for i in range(len(my_string)):\n",
    "    print(my_string[i])\n"
   ]
  },
  {
   "cell_type": "markdown",
   "id": "99f9609b-c9e1-4df0-9dc7-f7408de0d62c",
   "metadata": {},
   "source": [
    "9. Write a Python program to find the largest number in a list using a for loop.\n"
   ]
  },
  {
   "cell_type": "code",
   "execution_count": 5,
   "id": "5241db32-ff50-46f6-8fdb-5204d2ce5f68",
   "metadata": {},
   "outputs": [
    {
     "name": "stdout",
     "output_type": "stream",
     "text": [
      "The largest number in the list is: 89\n"
     ]
    }
   ],
   "source": [
    "def find_largest_number(numbers):\n",
    "    if not numbers:\n",
    "        return None  # Return None for an empty list\n",
    "    max_number = numbers[0]  # Assume the first number is the largest initially\n",
    "    for num in numbers:\n",
    "        if num > max_number:\n",
    "            max_number = num  # Update max_number if a larger number is found\n",
    "    return max_number\n",
    "\n",
    "# Example list\n",
    "my_list = [12, 54, 27, 89, 5, 37]\n",
    "\n",
    "largest_number = find_largest_number(my_list)\n",
    "print(f\"The largest number in the list is: {largest_number}\")\n"
   ]
  },
  {
   "cell_type": "markdown",
   "id": "958fd110-d36c-4327-bacf-0b036ef8413a",
   "metadata": {},
   "source": [
    "10. Create a Python program that prints the Fibonacci sequence up to a specified limit using a for loop."
   ]
  },
  {
   "cell_type": "code",
   "execution_count": 6,
   "id": "820078b4-83ae-46e2-a731-cd2934fa87f7",
   "metadata": {},
   "outputs": [
    {
     "name": "stdout",
     "output_type": "stream",
     "text": [
      "The Fibonacci sequence up to limit 10 is:\n",
      "[0, 1, 1, 2, 3, 5, 8, 13, 21, 34]\n"
     ]
    }
   ],
   "source": [
    "def fibonacci_sequence(limit):\n",
    "    fib_sequence = []\n",
    "    if limit <= 0:\n",
    "        return \"Limit should be greater than zero\"\n",
    "    elif limit == 1:\n",
    "        fib_sequence = [0]\n",
    "    elif limit == 2:\n",
    "        fib_sequence = [0, 1]\n",
    "    else:\n",
    "        fib_sequence = [0, 1]\n",
    "        for i in range(2, limit):\n",
    "            next_number = fib_sequence[-1] + fib_sequence[-2]\n",
    "            fib_sequence.append(next_number)\n",
    "    return fib_sequence\n",
    "\n",
    "# Specify the limit for the Fibonacci sequence\n",
    "sequence_limit = 10  # Change this value to print the sequence up to a different limit\n",
    "\n",
    "fibonacci_numbers = fibonacci_sequence(sequence_limit)\n",
    "print(f\"The Fibonacci sequence up to limit {sequence_limit} is:\")\n",
    "print(fibonacci_numbers)\n"
   ]
  },
  {
   "cell_type": "markdown",
   "id": "ecfaf5f8-9ea5-44e5-b638-1e90d59717d1",
   "metadata": {},
   "source": [
    "11. Write a Python program to count the number of vowels in a given string using a for loop.\n"
   ]
  },
  {
   "cell_type": "code",
   "execution_count": 8,
   "id": "3ad8cf5a-8880-4910-9e24-b9e2f8171ea9",
   "metadata": {},
   "outputs": [
    {
     "name": "stdout",
     "output_type": "stream",
     "text": [
      "The number of vowels in the string is: 8\n"
     ]
    }
   ],
   "source": [
    "def count_vowels(input_string):\n",
    "    vowels = \"aeiouAEIOU\"  # Define a string containing all vowels\n",
    "    vowel_count = 0\n",
    "\n",
    "    for char in input_string:\n",
    "        if char in vowels:\n",
    "            vowel_count += 1\n",
    "\n",
    "    return vowel_count\n",
    "\n",
    "# Example string\n",
    "my_string = \"Hello pwskill How are you?\"\n",
    "\n",
    "number_of_vowels = count_vowels(my_string)\n",
    "print(f\"The number of vowels in the string is: {number_of_vowels}\")\n"
   ]
  },
  {
   "cell_type": "markdown",
   "id": "6dd799b0-73cc-4a1e-b65d-948ec5671862",
   "metadata": {},
   "source": [
    "12. Create a Python program that generates a multiplication table for a given number using a for loop."
   ]
  },
  {
   "cell_type": "code",
   "execution_count": 9,
   "id": "e474f0d2-c6b8-4c10-a20b-fa45106b51aa",
   "metadata": {},
   "outputs": [
    {
     "name": "stdin",
     "output_type": "stream",
     "text": [
      "Enter a number to generate its multiplication table:  3\n"
     ]
    },
    {
     "name": "stdout",
     "output_type": "stream",
     "text": [
      "Multiplication table for 3:\n",
      "3 x 1 = 3\n",
      "3 x 2 = 6\n",
      "3 x 3 = 9\n",
      "3 x 4 = 12\n",
      "3 x 5 = 15\n",
      "3 x 6 = 18\n",
      "3 x 7 = 21\n",
      "3 x 8 = 24\n",
      "3 x 9 = 27\n",
      "3 x 10 = 30\n"
     ]
    }
   ],
   "source": [
    "def multiplication_table(number):\n",
    "    print(f\"Multiplication table for {number}:\")\n",
    "    for i in range(1, 11):  # Multiplication table from 1 to 10\n",
    "        result = number * i\n",
    "        print(f\"{number} x {i} = {result}\")\n",
    "\n",
    "# Enter the number for which you want to generate the multiplication table\n",
    "input_number = int(input(\"Enter a number to generate its multiplication table: \"))\n",
    "\n",
    "multiplication_table(input_number)\n"
   ]
  },
  {
   "cell_type": "markdown",
   "id": "c815df39-d4b1-436e-b5e7-fcc6cf0b9d61",
   "metadata": {},
   "source": [
    "13. Write a Python program to reverse a list using a for loop.\n"
   ]
  },
  {
   "cell_type": "code",
   "execution_count": 10,
   "id": "9e0fdb58-1818-4c88-8b53-e9dc380021c9",
   "metadata": {},
   "outputs": [
    {
     "name": "stdout",
     "output_type": "stream",
     "text": [
      "The reversed list is: [5, 4, 3, 2, 1]\n"
     ]
    }
   ],
   "source": [
    "def reverse_list(input_list):\n",
    "    reversed_list = []\n",
    "\n",
    "    # Iterate through the list in reverse order using a for loop\n",
    "    for i in range(len(input_list) - 1, -1, -1):\n",
    "        reversed_list.append(input_list[i])\n",
    "\n",
    "    return reversed_list\n",
    "\n",
    "# Example list\n",
    "my_list = [1, 2, 3, 4, 5]\n",
    "\n",
    "reversed_result = reverse_list(my_list)\n",
    "print(f\"The reversed list is: {reversed_result}\")\n"
   ]
  },
  {
   "cell_type": "markdown",
   "id": "724965ae-4200-447a-b622-14ea02d0ccb3",
   "metadata": {},
   "source": [
    "14. Write a Python program to find the common elements between two lists using a for loop."
   ]
  },
  {
   "cell_type": "code",
   "execution_count": 11,
   "id": "245a8ed6-5f19-481b-b375-b40c821dc007",
   "metadata": {},
   "outputs": [
    {
     "name": "stdout",
     "output_type": "stream",
     "text": [
      "The common elements between the lists are: [3, 4, 5]\n"
     ]
    }
   ],
   "source": [
    "def find_common_elements(list1, list2):\n",
    "    common_elements = []\n",
    "\n",
    "    for element in list1:\n",
    "        if element in list2 and element not in common_elements:\n",
    "            common_elements.append(element)\n",
    "\n",
    "    return common_elements\n",
    "\n",
    "# Example lists\n",
    "list_a = [1, 2, 3, 4, 5]\n",
    "list_b = [3, 4, 5, 6, 7]\n",
    "\n",
    "common_elements_result = find_common_elements(list_a, list_b)\n",
    "print(f\"The common elements between the lists are: {common_elements_result}\")\n"
   ]
  },
  {
   "cell_type": "markdown",
   "id": "c2f14915-e293-4862-a7e7-e447806b8e76",
   "metadata": {},
   "source": [
    "15. Explain how to use a for loop to iterate through the keys and values of a dictionary in Python."
   ]
  },
  {
   "cell_type": "code",
   "execution_count": 12,
   "id": "3bb4c56f-5149-47c8-89c7-f2a69fa24810",
   "metadata": {},
   "outputs": [
    {
     "name": "stdout",
     "output_type": "stream",
     "text": [
      "Key: a, Value: 1\n",
      "Key: b, Value: 2\n",
      "Key: c, Value: 3\n",
      "Key: d, Value: 4\n"
     ]
    }
   ],
   "source": [
    "my_dict = {'a': 1, 'b': 2, 'c': 3, 'd': 4}\n",
    "\n",
    "# Iterate through keys and values using items()\n",
    "for key, value in my_dict.items():\n",
    "    print(f\"Key: {key}, Value: {value}\")\n"
   ]
  },
  {
   "cell_type": "markdown",
   "id": "0fbfd439-d3ed-40ba-a105-0d179bab9166",
   "metadata": {},
   "source": [
    "16. Write a Python program to find the GCD (Greatest Common Divisor) of two numbers using a for loop.\n"
   ]
  },
  {
   "cell_type": "code",
   "execution_count": 14,
   "id": "f1a67c04-9499-47f1-9b00-b1379f17635c",
   "metadata": {},
   "outputs": [
    {
     "name": "stdin",
     "output_type": "stream",
     "text": [
      "Enter the first number:  20\n",
      "Enter the second number:  3\n"
     ]
    },
    {
     "name": "stdout",
     "output_type": "stream",
     "text": [
      "The GCD of 20 and 3 is: 1\n"
     ]
    }
   ],
   "source": [
    "def find_gcd(a, b):\n",
    "    while b:\n",
    "        a, b = b, a % b\n",
    "    return a\n",
    "\n",
    "# Input two numbers for which you want to find the GCD\n",
    "num1 = int(input(\"Enter the first number: \"))\n",
    "num2 = int(input(\"Enter the second number: \"))\n",
    "\n",
    "gcd = find_gcd(num1, num2)\n",
    "print(f\"The GCD of {num1} and {num2} is: {gcd}\")\n"
   ]
  },
  {
   "cell_type": "markdown",
   "id": "535dcd1f-7d45-4dfc-9aeb-b5f97d027811",
   "metadata": {},
   "source": [
    "17. Create a Python program that checks if a string is a palindrome using a for loop.\n"
   ]
  },
  {
   "cell_type": "code",
   "execution_count": 15,
   "id": "377f7960-b418-4219-8044-c12ddae0349c",
   "metadata": {},
   "outputs": [
    {
     "name": "stdout",
     "output_type": "stream",
     "text": [
      "The string 'Able was I ere I saw Elba' is a palindrome.\n"
     ]
    }
   ],
   "source": [
    "def is_palindrome(input_string):\n",
    "    # Remove spaces and convert to lowercase for case-insensitive comparison\n",
    "    input_string = input_string.replace(\" \", \"\").lower()\n",
    "    length = len(input_string)\n",
    "    \n",
    "    for i in range(length // 2):  # Iterate only till the middle of the string\n",
    "        if input_string[i] != input_string[length - i - 1]:\n",
    "            return False\n",
    "    return True\n",
    "\n",
    "# Example string\n",
    "my_string = \"Able was I ere I saw Elba\"  # Change this string to test different palindromes\n",
    "\n",
    "result = is_palindrome(my_string)\n",
    "\n",
    "if result:\n",
    "    print(f\"The string '{my_string}' is a palindrome.\")\n",
    "else:\n",
    "    print(f\"The string '{my_string}' is not a palindrome.\")\n"
   ]
  },
  {
   "cell_type": "markdown",
   "id": "4b6fb812-1db8-4847-bc81-e5f0d28c5100",
   "metadata": {},
   "source": [
    "18. Write a Python program to remove duplicates from a list using a for loop.\n"
   ]
  },
  {
   "cell_type": "code",
   "execution_count": 16,
   "id": "dc8c958d-5c28-4907-9403-1754078ad469",
   "metadata": {},
   "outputs": [
    {
     "name": "stdout",
     "output_type": "stream",
     "text": [
      "The list after removing duplicates: [1, 2, 3, 4, 5, 6]\n"
     ]
    }
   ],
   "source": [
    "def remove_duplicates(input_list):\n",
    "    unique_list = []\n",
    "\n",
    "    for item in input_list:\n",
    "        if item not in unique_list:\n",
    "            unique_list.append(item)\n",
    "\n",
    "    return unique_list\n",
    "\n",
    "# Example list with duplicates\n",
    "my_list = [1, 2, 2, 3, 4, 4, 5, 6, 6]\n",
    "\n",
    "result = remove_duplicates(my_list)\n",
    "print(f\"The list after removing duplicates: {result}\")\n"
   ]
  },
  {
   "cell_type": "markdown",
   "id": "34e85891-1a6e-4987-bd39-6973014d0cc0",
   "metadata": {},
   "source": [
    "19. Create a Python program that counts the number of words in a sentence using a for loop.\n"
   ]
  },
  {
   "cell_type": "code",
   "execution_count": 17,
   "id": "9259d5d8-b37f-47a4-b9e8-b5bba5125294",
   "metadata": {},
   "outputs": [
    {
     "name": "stdout",
     "output_type": "stream",
     "text": [
      "The number of words in the sentence is: 8\n"
     ]
    }
   ],
   "source": [
    "def count_words(sentence):\n",
    "    word_count = 0\n",
    "\n",
    "    # Split the sentence into words based on spaces\n",
    "    words = sentence.split()\n",
    "\n",
    "    for word in words:\n",
    "        word_count += 1\n",
    "\n",
    "    return word_count\n",
    "\n",
    "# Example sentence\n",
    "my_sentence = \"This is a sample sentence for word counting.\"\n",
    "\n",
    "number_of_words = count_words(my_sentence)\n",
    "print(f\"The number of words in the sentence is: {number_of_words}\")\n"
   ]
  },
  {
   "cell_type": "markdown",
   "id": "96fbc98a-1325-4b49-a570-34c4d2cddd17",
   "metadata": {},
   "source": [
    "20. Write a Python program to find the sum of all odd numbers from 1 to 50 using a for loop.\n"
   ]
  },
  {
   "cell_type": "code",
   "execution_count": 18,
   "id": "fb307f03-5fa2-47b3-aaa5-8ec5d7f4d871",
   "metadata": {},
   "outputs": [
    {
     "name": "stdout",
     "output_type": "stream",
     "text": [
      "The sum of all odd numbers from 1 to 50 is: 625\n"
     ]
    }
   ],
   "source": [
    "odd_sum = 0\n",
    "\n",
    "for num in range(1, 51):\n",
    "    if num % 2 != 0:  # Check if the number is odd\n",
    "        odd_sum += num\n",
    "\n",
    "print(f\"The sum of all odd numbers from 1 to 50 is: {odd_sum}\")\n"
   ]
  },
  {
   "cell_type": "markdown",
   "id": "bc7b5c53-f23a-4f6c-b922-1282d766c443",
   "metadata": {},
   "source": [
    "21. Write a Python program that checks if a given year is a leap year using a for loop."
   ]
  },
  {
   "cell_type": "code",
   "execution_count": 19,
   "id": "e49bbf9a-04cf-4074-9941-454fa56c1a51",
   "metadata": {},
   "outputs": [
    {
     "name": "stdout",
     "output_type": "stream",
     "text": [
      "2000 is a leap year.\n",
      "2001 is not a leap year.\n",
      "2002 is not a leap year.\n",
      "2003 is not a leap year.\n",
      "2004 is a leap year.\n",
      "2005 is not a leap year.\n",
      "2006 is not a leap year.\n",
      "2007 is not a leap year.\n",
      "2008 is a leap year.\n",
      "2009 is not a leap year.\n",
      "2010 is not a leap year.\n",
      "2011 is not a leap year.\n",
      "2012 is a leap year.\n",
      "2013 is not a leap year.\n",
      "2014 is not a leap year.\n",
      "2015 is not a leap year.\n",
      "2016 is a leap year.\n",
      "2017 is not a leap year.\n",
      "2018 is not a leap year.\n",
      "2019 is not a leap year.\n",
      "2020 is a leap year.\n",
      "2021 is not a leap year.\n",
      "2022 is not a leap year.\n",
      "2023 is not a leap year.\n",
      "2024 is a leap year.\n"
     ]
    }
   ],
   "source": [
    "def check_leap_year(year):\n",
    "    if (year % 4 == 0 and year % 100 != 0) or (year % 400 == 0):\n",
    "        return True\n",
    "    else:\n",
    "        return False\n",
    "\n",
    "# Example range of years to check\n",
    "start_year = 2000\n",
    "end_year = 2024\n",
    "\n",
    "for year in range(start_year, end_year + 1):\n",
    "    if check_leap_year(year):\n",
    "        print(f\"{year} is a leap year.\")\n",
    "    else:\n",
    "        print(f\"{year} is not a leap year.\")\n"
   ]
  },
  {
   "cell_type": "markdown",
   "id": "6d25e956-a4c4-4ede-b6d5-3a5af91dd07b",
   "metadata": {},
   "source": [
    "22. Create a Python program that calculates the square root of a number using a for loop."
   ]
  },
  {
   "cell_type": "code",
   "execution_count": 20,
   "id": "91d8ad57-b932-458d-861f-8650a60ad9cb",
   "metadata": {},
   "outputs": [
    {
     "name": "stdin",
     "output_type": "stream",
     "text": [
      "Enter a number to calculate its square root:  11\n"
     ]
    },
    {
     "name": "stdout",
     "output_type": "stream",
     "text": [
      "The square root of 11.0 is approximately: 3.3166247903554\n"
     ]
    }
   ],
   "source": [
    "def calculate_square_root(number):\n",
    "    if number < 0:\n",
    "        return \"Square root is not defined for negative numbers\"\n",
    "    \n",
    "    # Initial guess for the square root\n",
    "    guess = number / 2.0\n",
    "    \n",
    "    # Number of iterations for approximation\n",
    "    iterations = 100\n",
    "    \n",
    "    # Applying Babylonian Method for approximation\n",
    "    for _ in range(iterations):\n",
    "        guess = (guess + number / guess) / 2\n",
    "        \n",
    "    return guess\n",
    "\n",
    "# Input a number to find its square root\n",
    "input_number = float(input(\"Enter a number to calculate its square root: \"))\n",
    "\n",
    "result = calculate_square_root(input_number)\n",
    "print(f\"The square root of {input_number} is approximately: {result}\")\n"
   ]
  },
  {
   "cell_type": "markdown",
   "id": "f339a401-e7b6-45f4-921a-53ed68551eb4",
   "metadata": {},
   "source": [
    "23. Write a Python program to find the LCM (Least Common Multiple) of two numbers using a for loop.\n"
   ]
  },
  {
   "cell_type": "code",
   "execution_count": 21,
   "id": "7aec3782-9989-45fc-ac81-34a34ee2c613",
   "metadata": {},
   "outputs": [
    {
     "name": "stdin",
     "output_type": "stream",
     "text": [
      "Enter the first number:  2\n",
      "Enter the second number:  6\n"
     ]
    },
    {
     "name": "stdout",
     "output_type": "stream",
     "text": [
      "The LCM of 2 and 6 is: 6\n"
     ]
    }
   ],
   "source": [
    "def find_gcd(a, b):\n",
    "    while b:\n",
    "        a, b = b, a % b\n",
    "    return a\n",
    "\n",
    "def find_lcm(a, b):\n",
    "    gcd = find_gcd(a, b)\n",
    "    lcm = abs(a * b) // gcd\n",
    "    return lcm\n",
    "\n",
    "# Input two numbers for which you want to find the LCM\n",
    "num1 = int(input(\"Enter the first number: \"))\n",
    "num2 = int(input(\"Enter the second number: \"))\n",
    "\n",
    "lcm = find_lcm(num1, num2)\n",
    "print(f\"The LCM of {num1} and {num2} is: {lcm}\")\n"
   ]
  },
  {
   "cell_type": "markdown",
   "id": "132f206e-09ae-4304-ba45-0a0a98360262",
   "metadata": {},
   "source": [
    "If else"
   ]
  },
  {
   "cell_type": "markdown",
   "id": "b9c98733-a990-4b80-a9d6-ae300a370615",
   "metadata": {},
   "source": [
    "1. Write a Python program to check if a number is positive, negative, or zero using an if-else statement."
   ]
  },
  {
   "cell_type": "code",
   "execution_count": 22,
   "id": "90252002-f497-4394-975c-9dd61e60d537",
   "metadata": {},
   "outputs": [
    {
     "name": "stdin",
     "output_type": "stream",
     "text": [
      "Enter a number:  34\n"
     ]
    },
    {
     "name": "stdout",
     "output_type": "stream",
     "text": [
      "The number 34.0 is Positive.\n"
     ]
    }
   ],
   "source": [
    "def check_number(number):\n",
    "    if number > 0:\n",
    "        return \"Positive\"\n",
    "    elif number < 0:\n",
    "        return \"Negative\"\n",
    "    else:\n",
    "        return \"Zero\"\n",
    "\n",
    "# Input a number to check its sign\n",
    "input_number = float(input(\"Enter a number: \"))\n",
    "\n",
    "result = check_number(input_number)\n",
    "print(f\"The number {input_number} is {result}.\")\n"
   ]
  },
  {
   "cell_type": "markdown",
   "id": "2d428a59-2d6c-406a-adbb-8998ee9eb817",
   "metadata": {},
   "source": [
    "2. Create a Python program that checks if a given number is even or odd using an if-else statement.\n"
   ]
  },
  {
   "cell_type": "code",
   "execution_count": 23,
   "id": "7daeb0a0-e650-4944-bc2e-568063939c71",
   "metadata": {},
   "outputs": [
    {
     "name": "stdin",
     "output_type": "stream",
     "text": [
      "Enter a number:  344\n"
     ]
    },
    {
     "name": "stdout",
     "output_type": "stream",
     "text": [
      "The number 344 is Even.\n"
     ]
    }
   ],
   "source": [
    "def check_even_odd(number):\n",
    "    if number % 2 == 0:\n",
    "        return \"Even\"\n",
    "    else:\n",
    "        return \"Odd\"\n",
    "\n",
    "# Input a number to check if it's even or odd\n",
    "input_number = int(input(\"Enter a number: \"))\n",
    "\n",
    "result = check_even_odd(input_number)\n",
    "print(f\"The number {input_number} is {result}.\")\n"
   ]
  },
  {
   "cell_type": "markdown",
   "id": "b2f8ecca-be47-4728-a0b3-2c42ca60220b",
   "metadata": {},
   "source": [
    "3. How can you use nested if-else statements in Python, and provide an example?\n"
   ]
  },
  {
   "cell_type": "code",
   "execution_count": 26,
   "id": "18459177-afa9-4694-9069-7f5a3e5909d4",
   "metadata": {},
   "outputs": [
    {
     "name": "stdin",
     "output_type": "stream",
     "text": [
      "Enter a number:  23\n"
     ]
    },
    {
     "name": "stdout",
     "output_type": "stream",
     "text": [
      "The number 23 is Positive Odd.\n"
     ]
    }
   ],
   "source": [
    "'''if-else are conditional statements which are use to execute one of two blocks which satisfies the provided condition.When we have to check condition\n",
    "inside a if block or else block we use nested if-else statements.'''\n",
    "\n",
    "def check_number(number):\n",
    "    if number > 0:\n",
    "        if number % 2 == 0:\n",
    "            return \"Positive Even\"\n",
    "        else:\n",
    "            return \"Positive Odd\"\n",
    "    elif number < 0:\n",
    "        if number % 2 == 0:\n",
    "            return \"Negative Even\"\n",
    "        else:\n",
    "            return \"Negative Odd\"\n",
    "    else:\n",
    "        return \"Zero\"\n",
    "\n",
    "# Input a number to check its properties\n",
    "input_number = int(input(\"Enter a number: \"))\n",
    "\n",
    "result = check_number(input_number)\n",
    "print(f\"The number {input_number} is {result}.\")\n"
   ]
  },
  {
   "cell_type": "markdown",
   "id": "342c3b63-af03-4c07-b521-42c28da5a543",
   "metadata": {},
   "source": [
    "4. Write a Python program to determine the largest of three numbers using if-else."
   ]
  },
  {
   "cell_type": "code",
   "execution_count": 25,
   "id": "4ab8ec0e-cf42-486b-9845-4ebd941768a9",
   "metadata": {},
   "outputs": [
    {
     "name": "stdin",
     "output_type": "stream",
     "text": [
      "Enter the first number:  55\n",
      "Enter the second number:  43\n",
      "Enter the third number:  22\n"
     ]
    },
    {
     "name": "stdout",
     "output_type": "stream",
     "text": [
      "The largest number among 55.0, 43.0, and 22.0 is: 55.0\n"
     ]
    }
   ],
   "source": [
    "def find_largest(num1, num2, num3):\n",
    "    if num1 >= num2 and num1 >= num3:\n",
    "        return num1\n",
    "    elif num2 >= num1 and num2 >= num3:\n",
    "        return num2\n",
    "    else:\n",
    "        return num3\n",
    "\n",
    "# Input three numbers\n",
    "num1 = float(input(\"Enter the first number: \"))\n",
    "num2 = float(input(\"Enter the second number: \"))\n",
    "num3 = float(input(\"Enter the third number: \"))\n",
    "\n",
    "largest_number = find_largest(num1, num2, num3)\n",
    "print(f\"The largest number among {num1}, {num2}, and {num3} is: {largest_number}\")\n"
   ]
  },
  {
   "cell_type": "markdown",
   "id": "a67ae152-0d19-406d-bc7b-239fe5ae688d",
   "metadata": {},
   "source": [
    "5. Write a Python program that calculates the absolute value of a number using if-else.\n"
   ]
  },
  {
   "cell_type": "code",
   "execution_count": 28,
   "id": "755ba957-7c83-486f-93e7-5cd10e87de56",
   "metadata": {},
   "outputs": [
    {
     "name": "stdin",
     "output_type": "stream",
     "text": [
      "Enter a number:  -21\n"
     ]
    },
    {
     "name": "stdout",
     "output_type": "stream",
     "text": [
      "The absolute value of -21.0 is: 21.0\n"
     ]
    }
   ],
   "source": [
    "def absolute_value(number):\n",
    "    if number >= 0:\n",
    "        return number\n",
    "    else:\n",
    "        return -number\n",
    "\n",
    "# Input a number to find its absolute value\n",
    "input_number = float(input(\"Enter a number: \"))\n",
    "\n",
    "result = absolute_value(input_number)\n",
    "print(f\"The absolute value of {input_number} is: {result}\")\n"
   ]
  },
  {
   "cell_type": "markdown",
   "id": "6d0b1ddf-28aa-4524-81d7-64db18ba2f1a",
   "metadata": {},
   "source": [
    "6. Create a Python program that checks if a given character is a vowel or consonant using if-else.\n"
   ]
  },
  {
   "cell_type": "code",
   "execution_count": 1,
   "id": "53f52406-9d04-49cf-9e57-d502539aa7fa",
   "metadata": {},
   "outputs": [
    {
     "name": "stdin",
     "output_type": "stream",
     "text": [
      "Enter a character:  naitik\n"
     ]
    },
    {
     "name": "stdout",
     "output_type": "stream",
     "text": [
      "The character 'naitik' is a consonant.\n"
     ]
    }
   ],
   "source": [
    "# Function to check if a character is a vowel or consonant\n",
    "def check_vowel_or_consonant(char):\n",
    "    # Converting the character to lowercase to handle both cases\n",
    "    char = char.lower()\n",
    "\n",
    "    # Checking if the character is a vowel\n",
    "    if char in 'aeiou':\n",
    "        return f\"The character '{char}' is a vowel.\"\n",
    "    # Checking if the character is a consonant\n",
    "    elif char.isalpha():\n",
    "        return f\"The character '{char}' is a consonant.\"\n",
    "    else:\n",
    "        return f\"The input '{char}' is not a valid alphabet character.\"\n",
    "\n",
    "# Taking user input\n",
    "input_char = input(\"Enter a character: \")\n",
    "\n",
    "# Checking and displaying the result\n",
    "result = check_vowel_or_consonant(input_char)\n",
    "print(result)\n"
   ]
  },
  {
   "cell_type": "markdown",
   "id": "ee551d81-226a-436c-9580-c1de3c119f1f",
   "metadata": {},
   "source": [
    "7. Write a Python program to determine if a user is eligible to vote based on their age using if-else.\n"
   ]
  },
  {
   "cell_type": "code",
   "execution_count": 2,
   "id": "879b98e2-c608-4d07-a008-654743c56919",
   "metadata": {},
   "outputs": [
    {
     "name": "stdin",
     "output_type": "stream",
     "text": [
      "Enter your age:  25\n"
     ]
    },
    {
     "name": "stdout",
     "output_type": "stream",
     "text": [
      "You are eligible to vote!\n"
     ]
    }
   ],
   "source": [
    "# Function to determine voting eligibility\n",
    "def check_voting_eligibility(age):\n",
    "    if age >= 18:\n",
    "        return \"You are eligible to vote!\"\n",
    "    else:\n",
    "        return \"You are not eligible to vote yet.\"\n",
    "\n",
    "# Taking user input for age\n",
    "user_age = int(input(\"Enter your age: \"))\n",
    "\n",
    "# Checking eligibility and displaying the result\n",
    "result = check_voting_eligibility(user_age)\n",
    "print(result)\n"
   ]
  },
  {
   "cell_type": "markdown",
   "id": "8ff2dda3-2875-41c5-bb95-5a8a050e9024",
   "metadata": {},
   "source": [
    "8. Create a Python program that calculates the discount amount based on the purchase amount using if-else."
   ]
  },
  {
   "cell_type": "code",
   "execution_count": 3,
   "id": "884ae781-0e51-479d-a3b2-cd91ce058172",
   "metadata": {},
   "outputs": [
    {
     "name": "stdin",
     "output_type": "stream",
     "text": [
      "Enter the purchase amount: $ 20000\n"
     ]
    },
    {
     "name": "stdout",
     "output_type": "stream",
     "text": [
      "You've qualified for a discount of $2000.00\n"
     ]
    }
   ],
   "source": [
    "# Function to calculate discount amount\n",
    "def calculate_discount(purchase_amount):\n",
    "    discount = 0\n",
    "\n",
    "    if purchase_amount > 1000:\n",
    "        discount = 0.1 * purchase_amount  # 10% discount for purchase over $1000\n",
    "    elif purchase_amount > 500:\n",
    "        discount = 0.05 * purchase_amount  # 5% discount for purchase over $500\n",
    "\n",
    "    return discount\n",
    "\n",
    "# Taking user input for purchase amount\n",
    "amount = float(input(\"Enter the purchase amount: $\"))\n",
    "\n",
    "# Calculating discount\n",
    "discount_amount = calculate_discount(amount)\n",
    "\n",
    "# Displaying the discount amount\n",
    "if discount_amount > 0:\n",
    "    print(f\"You've qualified for a discount of ${discount_amount:.2f}\")\n",
    "else:\n",
    "    print(\"Sorry, no discount applies to this purchase.\")\n"
   ]
  },
  {
   "cell_type": "markdown",
   "id": "6887a47e-8f1d-4f08-9253-00205962c682",
   "metadata": {},
   "source": [
    "9. Write a Python program to check if a number is within a specified range using if-else.\n"
   ]
  },
  {
   "cell_type": "code",
   "execution_count": 4,
   "id": "79c9ff38-61ef-4fc4-9f28-8b5385d8cced",
   "metadata": {},
   "outputs": [
    {
     "name": "stdin",
     "output_type": "stream",
     "text": [
      "Enter a number:  23\n",
      "Enter the lower limit of the range:  2\n",
      "Enter the upper limit of the range:  55\n"
     ]
    },
    {
     "name": "stdout",
     "output_type": "stream",
     "text": [
      "The number 23.0 is within the range [2.0, 55.0]\n"
     ]
    }
   ],
   "source": [
    "# Function to check if a number is within a specified range\n",
    "def check_range(number, lower_limit, upper_limit):\n",
    "    if number >= lower_limit and number <= upper_limit:\n",
    "        return f\"The number {number} is within the range [{lower_limit}, {upper_limit}]\"\n",
    "    else:\n",
    "        return f\"The number {number} is outside the range [{lower_limit}, {upper_limit}]\"\n",
    "\n",
    "# Taking user input for number and range limits\n",
    "num = float(input(\"Enter a number: \"))\n",
    "lower_limit = float(input(\"Enter the lower limit of the range: \"))\n",
    "upper_limit = float(input(\"Enter the upper limit of the range: \"))\n",
    "\n",
    "# Checking and displaying the result\n",
    "result = check_range(num, lower_limit, upper_limit)\n",
    "print(result)\n"
   ]
  },
  {
   "cell_type": "markdown",
   "id": "dc3408bd-5fad-46bc-adc3-a1e52637a8db",
   "metadata": {},
   "source": [
    "10.Create a Python program that determines the grade of a student based on their score using if-else.\n"
   ]
  },
  {
   "cell_type": "code",
   "execution_count": 1,
   "id": "4bed947a-2b6e-46aa-a77a-195e39b9f3c9",
   "metadata": {},
   "outputs": [
    {
     "name": "stdin",
     "output_type": "stream",
     "text": [
      "Enter the student's score:  67\n"
     ]
    },
    {
     "name": "stdout",
     "output_type": "stream",
     "text": [
      "The student's grade is: D\n"
     ]
    }
   ],
   "source": [
    "# Function to determine the grade based on the score\n",
    "def calculate_grade(score):\n",
    "    if score >= 90:\n",
    "        return \"A\"\n",
    "    elif score >= 80:\n",
    "        return \"B\"\n",
    "    elif score >= 70:\n",
    "        return \"C\"\n",
    "    elif score >= 60:\n",
    "        return \"D\"\n",
    "    else:\n",
    "        return \"F\"\n",
    "\n",
    "# Taking user input for the score\n",
    "student_score = float(input(\"Enter the student's score: \"))\n",
    "\n",
    "# Determining the grade and displaying the result\n",
    "grade = calculate_grade(student_score)\n",
    "print(f\"The student's grade is: {grade}\")\n"
   ]
  },
  {
   "cell_type": "markdown",
   "id": "d5851ee9-2848-410b-bd31-1e92bdbef5ab",
   "metadata": {},
   "source": [
    "11. Write a Python program to check if a string is empty or not using if-else.\n"
   ]
  },
  {
   "cell_type": "code",
   "execution_count": 3,
   "id": "fa4cd067-d850-4609-9e29-28a17bbd28bd",
   "metadata": {},
   "outputs": [
    {
     "name": "stdin",
     "output_type": "stream",
     "text": [
      "Enter a string:  \n"
     ]
    },
    {
     "name": "stdout",
     "output_type": "stream",
     "text": [
      "The string is empty.\n"
     ]
    }
   ],
   "source": [
    "# Function to check if a string is empty or not\n",
    "def check_empty_string(input_string):\n",
    "    if input_string == \"\":\n",
    "        return \"The string is empty.\"\n",
    "    else:\n",
    "        return \"The string is not empty.\"\n",
    "\n",
    "# Taking user input for a string\n",
    "user_string = input(\"Enter a string: \")\n",
    "\n",
    "# Checking and displaying the result\n",
    "result = check_empty_string(user_string)\n",
    "print(result)\n"
   ]
  },
  {
   "cell_type": "markdown",
   "id": "13f9d2c8-835e-4650-baf9-9294f96085c3",
   "metadata": {},
   "source": [
    "12. Create a Python program that identifies the type of a triangle (e.g., equilateral, isosceles, or scalene) based on input values using if-else."
   ]
  },
  {
   "cell_type": "code",
   "execution_count": 4,
   "id": "c51ea7de-d25c-44b9-ab4c-266e3a8f9169",
   "metadata": {},
   "outputs": [
    {
     "name": "stdin",
     "output_type": "stream",
     "text": [
      "Enter the length of side A:  30\n",
      "Enter the length of side B:  20\n",
      "Enter the length of side C:  50\n"
     ]
    },
    {
     "name": "stdout",
     "output_type": "stream",
     "text": [
      "This is a scalene triangle.\n"
     ]
    }
   ],
   "source": [
    "# Function to identify the type of triangle\n",
    "def identify_triangle_type(side1, side2, side3):\n",
    "    if side1 == side2 == side3:\n",
    "        return \"This is an equilateral triangle.\"\n",
    "    elif side1 == side2 or side1 == side3 or side2 == side3:\n",
    "        return \"This is an isosceles triangle.\"\n",
    "    else:\n",
    "        return \"This is a scalene triangle.\"\n",
    "\n",
    "# Taking user input for triangle sides\n",
    "side_a = float(input(\"Enter the length of side A: \"))\n",
    "side_b = float(input(\"Enter the length of side B: \"))\n",
    "side_c = float(input(\"Enter the length of side C: \"))\n",
    "\n",
    "# Checking and displaying the type of triangle\n",
    "triangle_type = identify_triangle_type(side_a, side_b, side_c)\n",
    "print(triangle_type)\n"
   ]
  },
  {
   "cell_type": "markdown",
   "id": "1e15218d-b8ea-440e-91d6-285fecf86c8d",
   "metadata": {},
   "source": [
    "13. Write a Python program to determine the day of the week based on a user-provided number using if-else."
   ]
  },
  {
   "cell_type": "code",
   "execution_count": 5,
   "id": "d58de3b0-7888-4ce9-8ccd-e40aa531878c",
   "metadata": {},
   "outputs": [
    {
     "name": "stdin",
     "output_type": "stream",
     "text": [
      "Enter a number (1-7) to determine the day of the week:  2\n"
     ]
    },
    {
     "name": "stdout",
     "output_type": "stream",
     "text": [
      "The day of the week is: Monday\n"
     ]
    }
   ],
   "source": [
    "# Function to determine the day of the week\n",
    "def determine_day_of_week(day_number):\n",
    "    if day_number == 1:\n",
    "        return \"Sunday\"\n",
    "    elif day_number == 2:\n",
    "        return \"Monday\"\n",
    "    elif day_number == 3:\n",
    "        return \"Tuesday\"\n",
    "    elif day_number == 4:\n",
    "        return \"Wednesday\"\n",
    "    elif day_number == 5:\n",
    "        return \"Thursday\"\n",
    "    elif day_number == 6:\n",
    "        return \"Friday\"\n",
    "    elif day_number == 7:\n",
    "        return \"Saturday\"\n",
    "    else:\n",
    "        return \"Invalid input. Please enter a number between 1 and 7.\"\n",
    "\n",
    "# Taking user input for a number representing the day\n",
    "user_input = int(input(\"Enter a number (1-7) to determine the day of the week: \"))\n",
    "\n",
    "# Checking and displaying the day of the week\n",
    "day_of_week = determine_day_of_week(user_input)\n",
    "print(f\"The day of the week is: {day_of_week}\")\n"
   ]
  },
  {
   "cell_type": "markdown",
   "id": "d0e21a15-c59b-4858-9a0e-ca58fcc17407",
   "metadata": {},
   "source": [
    "14. Create a Python program that checks if a given year is a leap year using both if-else and a function."
   ]
  },
  {
   "cell_type": "code",
   "execution_count": 6,
   "id": "a0a49919-dc61-4f22-a374-ec2046b78d83",
   "metadata": {},
   "outputs": [
    {
     "name": "stdin",
     "output_type": "stream",
     "text": [
      "Enter a year to check if it's a leap year:  2032\n"
     ]
    },
    {
     "name": "stdout",
     "output_type": "stream",
     "text": [
      "2032 is a leap year.\n"
     ]
    }
   ],
   "source": [
    "# Function to check if a year is a leap year\n",
    "def check_leap_year(year):\n",
    "    if (year % 4 == 0 and year % 100 != 0) or (year % 400 == 0):\n",
    "        return True\n",
    "    else:\n",
    "        return False\n",
    "\n",
    "# Taking user input for the year\n",
    "input_year = int(input(\"Enter a year to check if it's a leap year: \"))\n",
    "\n",
    "# Checking if the year is a leap year and displaying the result\n",
    "if check_leap_year(input_year):\n",
    "    print(f\"{input_year} is a leap year.\")\n",
    "else:\n",
    "    print(f\"{input_year} is not a leap year.\")\n"
   ]
  },
  {
   "cell_type": "markdown",
   "id": "6cf7ff4d-a3aa-4d17-b47e-39174f60c00c",
   "metadata": {},
   "source": [
    "15. How do you use the \"assert\" statement in Python to add debugging checks within if-else blocks?\n"
   ]
  },
  {
   "cell_type": "code",
   "execution_count": 27,
   "id": "0c584c85-d795-4972-bb5e-8a0dec7d5086",
   "metadata": {},
   "outputs": [
    {
     "name": "stdout",
     "output_type": "stream",
     "text": [
      "Discount: 120.0\n"
     ]
    }
   ],
   "source": [
    "'''Assert statement takes as input a boolean condition, which when returns\n",
    " true doesn't do anything and continues the normal flow of execution,\n",
    "  but if it is computed to be false, then it raises an AssertionError\n",
    "   along with the optional message provided.'''\n",
    "\n",
    "\n",
    "def calculate_discount(purchase_amount):\n",
    "    if purchase_amount > 0:\n",
    "        discount = 0\n",
    "\n",
    "        if purchase_amount > 1000:\n",
    "            discount = 0.1 * purchase_amount  # 10% discount for purchase over $1000\n",
    "        elif purchase_amount > 500:\n",
    "            discount = 0.05 * purchase_amount  # 5% discount for purchase over $500\n",
    "\n",
    "        # Performing a debugging check using assert\n",
    "        assert discount >= 0, \"Discount should be a non-negative value\"\n",
    "\n",
    "        return discount\n",
    "    else:\n",
    "        return 0  # No discount for non-positive purchase amounts\n",
    "\n",
    "# Testing the calculate_discount function\n",
    "result = calculate_discount(1200)\n",
    "print(\"Discount:\", result)\n"
   ]
  },
  {
   "cell_type": "markdown",
   "id": "cd27d4e4-293b-410c-99d7-5e5c6d544e72",
   "metadata": {},
   "source": [
    "16. Create a Python program that determines the eligibility of a person for a senior citizen discount based on age using if-else."
   ]
  },
  {
   "cell_type": "code",
   "execution_count": 9,
   "id": "7681354c-fa6d-41a0-bab5-3f963a28d5c1",
   "metadata": {},
   "outputs": [
    {
     "name": "stdin",
     "output_type": "stream",
     "text": [
      "Enter your age:  23\n"
     ]
    },
    {
     "name": "stdout",
     "output_type": "stream",
     "text": [
      "You are not eligible for a senior citizen discount.\n"
     ]
    }
   ],
   "source": [
    "# Function to check eligibility for a senior citizen discount\n",
    "def check_senior_citizen(age):\n",
    "    if age >= 60:\n",
    "        return \"You are eligible for a senior citizen discount.\"\n",
    "    else:\n",
    "        return \"You are not eligible for a senior citizen discount.\"\n",
    "\n",
    "# Taking user input for age\n",
    "user_age = int(input(\"Enter your age: \"))\n",
    "\n",
    "# Checking eligibility and displaying the result\n",
    "result = check_senior_citizen(user_age)\n",
    "print(result)\n"
   ]
  },
  {
   "cell_type": "markdown",
   "id": "6bfd9f1a-b790-45d4-aaf3-77a3efcc80bd",
   "metadata": {},
   "source": [
    "17. Write a Python program to categorize a given character as uppercase, lowercase, or neither using if-else."
   ]
  },
  {
   "cell_type": "code",
   "execution_count": 10,
   "id": "42ce6883-72fd-40e3-ae04-67a0f7be2292",
   "metadata": {},
   "outputs": [
    {
     "name": "stdin",
     "output_type": "stream",
     "text": [
      "Enter a character:  NAITIK\n"
     ]
    },
    {
     "name": "stdout",
     "output_type": "stream",
     "text": [
      "The character 'NAITIK' is uppercase.\n"
     ]
    }
   ],
   "source": [
    "# Function to categorize a character as uppercase, lowercase, or neither\n",
    "def categorize_character(char):\n",
    "    if char.isupper():\n",
    "        return f\"The character '{char}' is uppercase.\"\n",
    "    elif char.islower():\n",
    "        return f\"The character '{char}' is lowercase.\"\n",
    "    else:\n",
    "        return f\"The character '{char}' is neither uppercase nor lowercase.\"\n",
    "\n",
    "# Taking user input for a character\n",
    "input_char = input(\"Enter a character: \")\n",
    "\n",
    "# Checking and displaying the category of the character\n",
    "result = categorize_character(input_char)\n",
    "print(result)\n"
   ]
  },
  {
   "cell_type": "markdown",
   "id": "c8514c76-de45-414c-ac8c-9e1492987f8c",
   "metadata": {},
   "source": [
    "18. Write a Python program to determine the roots of a quadratic equation using if-else.\n"
   ]
  },
  {
   "cell_type": "code",
   "execution_count": 14,
   "id": "78ee0db3-1133-49a2-ab1c-69c58e3dffa6",
   "metadata": {},
   "outputs": [
    {
     "name": "stdout",
     "output_type": "stream",
     "text": [
      "Roots are real and different: 2.0 and 0.5\n"
     ]
    }
   ],
   "source": [
    "import math\n",
    "\n",
    "# Function to determine the roots of a quadratic equation\n",
    "def quadratic_roots(a, b, c):\n",
    "    discriminant = b**2 - 4 * a * c\n",
    "\n",
    "    if discriminant > 0:\n",
    "        root1 = (-b + math.sqrt(discriminant)) / (2 * a)\n",
    "        root2 = (-b - math.sqrt(discriminant)) / (2 * a)\n",
    "        return f\"Roots are real and different: {root1} and {root2}\"\n",
    "    elif discriminant == 0:\n",
    "        root = -b / (2 * a)\n",
    "        return f\"Roots are real and identical: {root}\"\n",
    "    else:\n",
    "        real_part = -b / (2 * a)\n",
    "        imaginary_part = math.sqrt(abs(discriminant)) / (2 * a)\n",
    "        return f\"Roots are complex: {real_part} + {imaginary_part}i and {real_part} - {imaginary_part}i\"\n",
    "\n",
    "# Coefficients of the quadratic equation\n",
    "a = 2\n",
    "b = -5\n",
    "c = 2\n",
    "\n",
    "# Checking and displaying the roots of the quadratic equation\n",
    "roots = quadratic_roots(a, b, c)\n",
    "print(roots)\n"
   ]
  },
  {
   "cell_type": "markdown",
   "id": "d64e4b26-804e-4b8f-be4b-4604a363ae0c",
   "metadata": {},
   "source": [
    "19. Create a Python program that checks if a given year is a century year or not using if-else.\n"
   ]
  },
  {
   "cell_type": "code",
   "execution_count": 3,
   "id": "e8cd6fec-f7cf-4184-bc8c-e26eae0014e9",
   "metadata": {},
   "outputs": [
    {
     "name": "stdin",
     "output_type": "stream",
     "text": [
      "Enter a year to check if it's a century year:  2034\n"
     ]
    },
    {
     "name": "stdout",
     "output_type": "stream",
     "text": [
      "2034 is not a century year.\n"
     ]
    }
   ],
   "source": [
    "# Function to check if a year is a century year\n",
    "def is_century_year(year):\n",
    "    if year % 100 == 0:\n",
    "        return True\n",
    "    else:\n",
    "        return False\n",
    "\n",
    "# Taking user input for a year\n",
    "input_year = int(input(\"Enter a year to check if it's a century year: \"))\n",
    "\n",
    "# Checking if the year is a century year and displaying the result\n",
    "if is_century_year(input_year):\n",
    "    print(f\"{input_year} is a century year.\")\n",
    "else:\n",
    "    print(f\"{input_year} is not a century year.\")\n"
   ]
  },
  {
   "cell_type": "markdown",
   "id": "83a286da-8c71-47c4-a145-c5a320a4d5ed",
   "metadata": {},
   "source": [
    "20. Write a Python program to determine if a given number is a perfect square using if-else."
   ]
  },
  {
   "cell_type": "code",
   "execution_count": 4,
   "id": "9a27b13a-ff4b-40b4-b5ee-c9eae64899bd",
   "metadata": {},
   "outputs": [
    {
     "name": "stdin",
     "output_type": "stream",
     "text": [
      "Enter a number to check if it's a perfect square:  36\n"
     ]
    },
    {
     "name": "stdout",
     "output_type": "stream",
     "text": [
      "36.0 is a perfect square.\n"
     ]
    }
   ],
   "source": [
    "# Function to determine if a number is a perfect square\n",
    "def is_perfect_square(number):\n",
    "    square_root = number ** 0.5  # Calculate the square root of the number\n",
    "\n",
    "    # Check if the square root is an integer\n",
    "    if square_root == int(square_root):\n",
    "        return True\n",
    "    else:\n",
    "        return False\n",
    "\n",
    "# Taking user input for a number\n",
    "input_number = float(input(\"Enter a number to check if it's a perfect square: \"))\n",
    "\n",
    "# Checking if the number is a perfect square and displaying the result\n",
    "if is_perfect_square(input_number):\n",
    "    print(f\"{input_number} is a perfect square.\")\n",
    "else:\n",
    "    print(f\"{input_number} is not a perfect square.\")\n"
   ]
  },
  {
   "cell_type": "markdown",
   "id": "2fcf5b09-b477-4c9c-adf0-d4b06ec89453",
   "metadata": {},
   "source": [
    "21. Explain the purpose of the \"continue\" and \"break\" statements within if-else loops.\n"
   ]
  },
  {
   "cell_type": "code",
   "execution_count": 2,
   "id": "75c56df1-597e-4d70-8a32-bfa12a7b7984",
   "metadata": {},
   "outputs": [
    {
     "data": {
      "text/plain": [
       "'The break statement is used to terminate the loop immediately.\\nThe continue statement is used to skip the current iteration of the loop.\\nBreak:A break statement in Python alters the flow of a loop by terminating itonce a specified condition is met.\\nContinue: The continue statement in Python is used to skip the remaining code inside a loop for the current iteration only.'"
      ]
     },
     "execution_count": 2,
     "metadata": {},
     "output_type": "execute_result"
    }
   ],
   "source": [
    "'''The break statement is used to terminate the loop immediately.\n",
    "The continue statement is used to skip the current iteration of the loop.\n",
    "Break:A break statement in Python alters the flow of a loop by terminating itonce a specified condition is met.\n",
    "Continue: The continue statement in Python is used to skip the remaining code inside a loop for the current iteration only.'''\n"
   ]
  },
  {
   "cell_type": "code",
   "execution_count": 2,
   "id": "3e72d5ab-caa9-47fa-8eb8-0682fb5f29fb",
   "metadata": {},
   "outputs": [
    {
     "name": "stdout",
     "output_type": "stream",
     "text": [
      "0\n",
      "1\n",
      "2\n"
     ]
    }
   ],
   "source": [
    "for i in range(5):\n",
    "    if i == 3:\n",
    "        break\n",
    "    print(i)\n"
   ]
  },
  {
   "cell_type": "markdown",
   "id": "993a2c01-601a-4d16-8336-7d6d9d067dc7",
   "metadata": {},
   "source": [
    "22. Create a Python program that calculates the BMI (Body Mass Index) of a person based on their weight and height using if-else."
   ]
  },
  {
   "cell_type": "code",
   "execution_count": 3,
   "id": "a6d6837c-9057-495a-b9d9-4ce82b1522b8",
   "metadata": {},
   "outputs": [
    {
     "name": "stdin",
     "output_type": "stream",
     "text": [
      "Enter your weight in kilograms:  65\n",
      "Enter your height in meters:  1.5\n"
     ]
    },
    {
     "name": "stdout",
     "output_type": "stream",
     "text": [
      "Your BMI is: 28.89\n",
      "You are categorized as: Overweight\n"
     ]
    }
   ],
   "source": [
    "def calculate_bmi(weight, height):\n",
    "    bmi = weight / (height ** 2)\n",
    "    return bmi\n",
    "\n",
    "def interpret_bmi(bmi):\n",
    "    if bmi < 18.5:\n",
    "        return \"Underweight\"\n",
    "    elif 18.5 <= bmi < 25:\n",
    "        return \"Normal weight\"\n",
    "    elif 25 <= bmi < 30:\n",
    "        return \"Overweight\"\n",
    "    else:\n",
    "        return \"Obese\"\n",
    "\n",
    "weight = float(input(\"Enter your weight in kilograms: \"))\n",
    "height = float(input(\"Enter your height in meters: \"))\n",
    "\n",
    "bmi = calculate_bmi(weight, height)\n",
    "print(f\"Your BMI is: {bmi:.2f}\")\n",
    "print(f\"You are categorized as: {interpret_bmi(bmi)}\")\n"
   ]
  },
  {
   "cell_type": "markdown",
   "id": "998f0df3-9a59-472e-95c5-8d3652ec8427",
   "metadata": {},
   "source": [
    "23. How can you use the \"filter()\" function with if-else statements to filter elements from a list?"
   ]
  },
  {
   "cell_type": "code",
   "execution_count": 3,
   "id": "a85d1926-57ca-45fe-990b-d11e59f8a22f",
   "metadata": {},
   "outputs": [
    {
     "name": "stdout",
     "output_type": "stream",
     "text": [
      "Original list: [1, 2, 3, 4, 5, 6, 7, 8, 9, 10]\n",
      "Filtered list of even numbers: [2, 4, 6, 8, 10]\n"
     ]
    }
   ],
   "source": [
    "'''The filter() function selects elements from an iterable (list, tuple etc.) based on the output of a function.\n",
    " The function is applied to each element of the iterable and if it returns True , the element is selected by the filter() function.'''\n",
    "\n",
    "# Custom function to filter elements based on a condition\n",
    "def is_even(num):\n",
    "    return num % 2 == 0  # Returns True if the number is even, False otherwise\n",
    "\n",
    "# List of numbers\n",
    "numbers = [1, 2, 3, 4, 5, 6, 7, 8, 9, 10]\n",
    "\n",
    "# Using filter() with the custom function\n",
    "filtered_result = filter(is_even, numbers)\n",
    "\n",
    "# Converting the filter object to a list (for Python 3, as filter returns an iterator)\n",
    "even_numbers = list(filtered_result)\n",
    "\n",
    "print(\"Original list:\", numbers)\n",
    "print(\"Filtered list of even numbers:\", even_numbers)\n"
   ]
  },
  {
   "cell_type": "markdown",
   "id": "0b776924-3c7a-4318-a662-f07dbc5d7e09",
   "metadata": {},
   "source": [
    "24. Write a Python program to determine if a given number is prime or not using if-else.\n"
   ]
  },
  {
   "cell_type": "code",
   "execution_count": 6,
   "id": "3558b9d6-bffe-4808-b67f-d7615192fe3b",
   "metadata": {},
   "outputs": [
    {
     "name": "stdin",
     "output_type": "stream",
     "text": [
      "Enter a number to check if it's prime:  23\n"
     ]
    },
    {
     "name": "stdout",
     "output_type": "stream",
     "text": [
      "23 is a prime number.\n"
     ]
    }
   ],
   "source": [
    "def is_prime(num):\n",
    "    if num <= 1:  # Numbers less than or equal to 1 are not prime\n",
    "        return False\n",
    "    for i in range(2, int(num**0.5) + 1):\n",
    "        if num % i == 0:\n",
    "            return False  # If the number is divisible by any number in this range, it's not prime\n",
    "    return True  # If the number is not divisible by any number in the range, it's prime\n",
    "\n",
    "number = int(input(\"Enter a number to check if it's prime: \"))\n",
    "\n",
    "if is_prime(number):\n",
    "    print(f\"{number} is a prime number.\")\n",
    "else:\n",
    "    print(f\"{number} is not a prime number.\")\n"
   ]
  },
  {
   "cell_type": "markdown",
   "id": "e0cff57c-b8a5-463d-94c1-3da36f791071",
   "metadata": {},
   "source": [
    "Map:"
   ]
  },
  {
   "cell_type": "markdown",
   "id": "5cc89948-42e3-475d-aa34-37f23c206866",
   "metadata": {},
   "source": [
    "1. Explain the purpose of the `map()` function in Python and provide an example of how it can be used to apply a function to each element of an iterable."
   ]
  },
  {
   "cell_type": "code",
   "execution_count": 4,
   "id": "73ef0fd1-df73-4792-93f3-9b848692d065",
   "metadata": {},
   "outputs": [
    {
     "data": {
      "text/plain": [
       "[3, 4, 5, 6, 7]"
      ]
     },
     "execution_count": 4,
     "metadata": {},
     "output_type": "execute_result"
    }
   ],
   "source": [
    "'''Map in Python is a function that works as an iterator to return a result after applying a function to every item of an iterable (tuple, lists, etc.).\n",
    "It is used when you want to apply a single transformation function to all the iterable elements. The iterable and function are passed as arguments to\n",
    " the map in Python.'''\n",
    "\n",
    " ## for example : take a list and add two to each element of it:\n",
    "lst = [1,2,3,4,5]\n",
    " ## using map function:\n",
    "list(map(lambda a: a+2,lst))"
   ]
  },
  {
   "cell_type": "markdown",
   "id": "41d4c06a-9a36-4f6c-87f4-01040eacbc64",
   "metadata": {},
   "source": [
    "2. Write a Python program that uses the `map()` function to square each element of a list of numbers"
   ]
  },
  {
   "cell_type": "code",
   "execution_count": 8,
   "id": "c34bc101-6286-4313-a082-80374490c514",
   "metadata": {},
   "outputs": [
    {
     "name": "stdout",
     "output_type": "stream",
     "text": [
      "Original list: [1, 2, 3, 4, 5]\n",
      "Squared numbers: [1, 4, 9, 16, 25]\n"
     ]
    }
   ],
   "source": [
    "# List of numbers\n",
    "numbers = [1, 2, 3, 4, 5]\n",
    "\n",
    "# Using map() to square each element in the list\n",
    "squared_numbers = map(lambda x: x * x, numbers)\n",
    "\n",
    "# Converting the map object to a list (for Python 3, as map returns an iterator)\n",
    "result = list(squared_numbers)\n",
    "\n",
    "print(\"Original list:\", numbers)\n",
    "print(\"Squared numbers:\", result)\n"
   ]
  },
  {
   "cell_type": "markdown",
   "id": "1b66db6b-ad8f-4512-a7a1-a45aae2b9c25",
   "metadata": {},
   "source": [
    "3. How does the `map()` function differ from a list comprehension in Python, and when would you choose one over the other?\n"
   ]
  },
  {
   "cell_type": "code",
   "execution_count": 5,
   "id": "34557212-0df4-4556-bffc-6a89d8894b70",
   "metadata": {},
   "outputs": [
    {
     "data": {
      "text/plain": [
       "'List comprehension returns a list, whereas the map function returns an object of Iterable.\\n List comprehension execution is faster than that of map function when the formula expression is huge and complex.\\n Map function is faster than list comprehension when the formula is already defined as a function earlier.'"
      ]
     },
     "execution_count": 5,
     "metadata": {},
     "output_type": "execute_result"
    }
   ],
   "source": [
    "'''List comprehension returns a list, whereas the map function returns an object of Iterable.\n",
    " List comprehension execution is faster than that of map function when the formula expression is huge and complex.\n",
    " Map function is faster than list comprehension when the formula is already defined as a function earlier.'''"
   ]
  },
  {
   "cell_type": "code",
   "execution_count": 1,
   "id": "e8b00c3f-fde3-4ae9-8fe4-f2f3e8a4ecf5",
   "metadata": {},
   "outputs": [],
   "source": [
    "# Using map()\n",
    "numbers = [1, 2, 3, 4, 5]\n",
    "squared_numbers = map(lambda x: x * x, numbers)\n",
    "result = list(squared_numbers)\n"
   ]
  },
  {
   "cell_type": "code",
   "execution_count": 2,
   "id": "909e209d-9a4b-4246-a23d-4f26c645ad17",
   "metadata": {},
   "outputs": [],
   "source": [
    "# Using list comprehension\n",
    "numbers = [1, 2, 3, 4, 5]\n",
    "squared_numbers = [x * x for x in numbers]\n"
   ]
  },
  {
   "cell_type": "markdown",
   "id": "9ceeaf7e-28f0-435a-b932-545cdb49ab07",
   "metadata": {},
   "source": [
    "4. Create a Python program that uses the `map()` function to convert a list of names to uppercase.\n"
   ]
  },
  {
   "cell_type": "code",
   "execution_count": 4,
   "id": "21f86871-bf47-4b6c-8c3d-368788a73662",
   "metadata": {},
   "outputs": [
    {
     "name": "stdout",
     "output_type": "stream",
     "text": [
      "Original names: ['naitik', 'mehta', 'anmol', 'paras']\n",
      "Names in uppercase: ['NAITIK', 'MEHTA', 'ANMOL', 'PARAS']\n"
     ]
    }
   ],
   "source": [
    "# List of names\n",
    "names = [\"naitik\", \"mehta\", \"anmol\", \"paras\"]\n",
    "\n",
    "# Using map() to convert each name to uppercase\n",
    "uppercased_names = map(str.upper, names)\n",
    "\n",
    "# Converting the map object to a list (for Python 3, as map returns an iterator)\n",
    "result = list(uppercased_names)\n",
    "\n",
    "print(\"Original names:\", names)\n",
    "print(\"Names in uppercase:\", result)\n"
   ]
  },
  {
   "cell_type": "markdown",
   "id": "ea8cda3e-17eb-4411-9b1a-60ef34854715",
   "metadata": {},
   "source": [
    "5. Write a Python program that uses the `map()` function to calculate the length of each word in a list of strings.\n"
   ]
  },
  {
   "cell_type": "code",
   "execution_count": 5,
   "id": "d20d54ff-0ffc-413b-86bb-080497b13398",
   "metadata": {},
   "outputs": [
    {
     "name": "stdout",
     "output_type": "stream",
     "text": [
      "Original words: ['apple', 'banana', 'orange', 'grape']\n",
      "Length of each word: [5, 6, 6, 5]\n"
     ]
    }
   ],
   "source": [
    "# List of strings\n",
    "words = [\"apple\", \"banana\", \"orange\", \"grape\"]\n",
    "\n",
    "# Using map() to calculate the length of each word\n",
    "word_lengths = map(len, words)\n",
    "\n",
    "# Converting the map object to a list (for Python 3, as map returns an iterator)\n",
    "result = list(word_lengths)\n",
    "\n",
    "print(\"Original words:\", words)\n",
    "print(\"Length of each word:\", result)\n"
   ]
  },
  {
   "cell_type": "markdown",
   "id": "d827359c-37f0-44f5-a6d7-f2ab502b3167",
   "metadata": {},
   "source": [
    "6. How can you use the `map()` function to apply a custom function to elements of multiple lists simultaneously in Python?\n"
   ]
  },
  {
   "cell_type": "code",
   "execution_count": 6,
   "id": "9b67264c-f864-477c-9988-678725c770ab",
   "metadata": {},
   "outputs": [
    {
     "name": "stdout",
     "output_type": "stream",
     "text": [
      "List 1: [1, 2, 3, 4]\n",
      "List 2: [5, 6, 7, 8]\n",
      "Result after applying function: [6, 8, 10, 12]\n"
     ]
    }
   ],
   "source": [
    " '''If you supply multiple iterables to map() , then the transformation function must take as\n",
    " many arguments as iterables you pass in. Each iteration of map() will pass one value from each iterable as\n",
    " an argument to function . The iteration stops at the end of the shortest iterable.'''\n",
    "\n",
    "\n",
    "# Custom function to add elements from two lists\n",
    "def add_elements(x, y):\n",
    "    return x + y\n",
    "\n",
    "# Two lists of numbers\n",
    "list1 = [1, 2, 3, 4]\n",
    "list2 = [5, 6, 7, 8]\n",
    "\n",
    "# Using map() to apply the custom function to elements of both lists\n",
    "result = list(map(add_elements, list1, list2))\n",
    "\n",
    "print(\"List 1:\", list1)\n",
    "print(\"List 2:\", list2)\n",
    "print(\"Result after applying function:\", result)\n"
   ]
  },
  {
   "cell_type": "markdown",
   "id": "920e4815-8d90-4928-aee3-6a38a815cd4a",
   "metadata": {},
   "source": [
    "7. Create a Python program that uses `map()` to convert a list of temperatures from Celsius to Fahrenheit"
   ]
  },
  {
   "cell_type": "code",
   "execution_count": 7,
   "id": "984f260f-ef9f-4f98-8fda-42eb2b9a69bc",
   "metadata": {},
   "outputs": [
    {
     "name": "stdout",
     "output_type": "stream",
     "text": [
      "Celsius Temperatures: [0, 15, 30, 35, 50]\n",
      "Fahrenheit Temperatures: [32.0, 59.0, 86.0, 95.0, 122.0]\n"
     ]
    }
   ],
   "source": [
    "# Function to convert Celsius to Fahrenheit\n",
    "def celsius_to_fahrenheit(celsius):\n",
    "    return (celsius * 9/5) + 32\n",
    "\n",
    "# List of temperatures in Celsius\n",
    "celsius_temperatures = [0, 15, 30, 35, 50]\n",
    "\n",
    "# Using map() to convert Celsius temperatures to Fahrenheit\n",
    "fahrenheit_temperatures = list(map(celsius_to_fahrenheit, celsius_temperatures))\n",
    "\n",
    "print(\"Celsius Temperatures:\", celsius_temperatures)\n",
    "print(\"Fahrenheit Temperatures:\", fahrenheit_temperatures)\n"
   ]
  },
  {
   "cell_type": "markdown",
   "id": "bfd2d29c-c28a-45a7-a29e-eb2d2e14d0f2",
   "metadata": {},
   "source": [
    "8. Write a Python program that uses the `map()` function to round each element of a list of floating-point numbers to the nearest integer.\n"
   ]
  },
  {
   "cell_type": "code",
   "execution_count": 8,
   "id": "eff8b15f-3bf2-437a-9393-66308cef2d44",
   "metadata": {},
   "outputs": [
    {
     "name": "stdout",
     "output_type": "stream",
     "text": [
      "Original floating-point numbers: [3.14, 1.618, 2.718, 4.669, 5.432]\n",
      "Rounded integers: [3, 2, 3, 5, 5]\n"
     ]
    }
   ],
   "source": [
    "# List of floating-point numbers\n",
    "float_numbers = [3.14, 1.618, 2.718, 4.669, 5.432]\n",
    "\n",
    "# Using map() to round each element to the nearest integer\n",
    "rounded_integers = list(map(round, float_numbers))\n",
    "\n",
    "print(\"Original floating-point numbers:\", float_numbers)\n",
    "print(\"Rounded integers:\", rounded_integers)\n"
   ]
  },
  {
   "cell_type": "markdown",
   "id": "1f1b27a5-573f-41ed-9300-05293a849710",
   "metadata": {},
   "source": [
    "Reduce :"
   ]
  },
  {
   "cell_type": "markdown",
   "id": "c512f298-a29e-4e76-8b73-d8a5b11add0d",
   "metadata": {},
   "source": [
    "1. What is the `reduce()` function in Python, and what module should you import to use it? Provide an example of its basic usage.\n"
   ]
  },
  {
   "cell_type": "code",
   "execution_count": 7,
   "id": "f26fff60-1024-49ac-9992-7e0708661aa6",
   "metadata": {},
   "outputs": [
    {
     "name": "stdout",
     "output_type": "stream",
     "text": [
      "Original list: [1, 2, 3, 4, 5]\n",
      "Sum of the numbers using reduce(): 15\n"
     ]
    }
   ],
   "source": [
    "''' The reduce(fun,seq) function is used to apply a particular function passed in its argument to all of the list elements mentioned in the sequence passed along.\n",
    "This function is defined in “functools” module. Working : At first step, first two elements of sequence are picked and the result is obtained.'''\n",
    "\n",
    "\n",
    "from functools import reduce\n",
    "\n",
    "# Function to add two numbers\n",
    "def add(x, y):\n",
    "    return x + y\n",
    "\n",
    "# List of numbers\n",
    "numbers = [1, 2, 3, 4, 5]\n",
    "\n",
    "# Using reduce() to sum all numbers in the list\n",
    "result = reduce(add, numbers)\n",
    "\n",
    "print(\"Original list:\", numbers)\n",
    "print(\"Sum of the numbers using reduce():\", result)\n"
   ]
  },
  {
   "cell_type": "markdown",
   "id": "64f88e26-35f7-4ab7-a655-8fc30cc86cfa",
   "metadata": {},
   "source": [
    "2. Write a Python program that uses the `reduce()` function to find the product of all elements in a list"
   ]
  },
  {
   "cell_type": "code",
   "execution_count": 10,
   "id": "2d1c461d-1a4b-44d7-9218-4c8dc8bbc027",
   "metadata": {},
   "outputs": [
    {
     "name": "stdout",
     "output_type": "stream",
     "text": [
      "Original list: [2, 3, 4, 5]\n",
      "Product of the numbers using reduce(): 120\n"
     ]
    }
   ],
   "source": [
    "from functools import reduce\n",
    "\n",
    "# Function to multiply two numbers\n",
    "def multiply(x, y):\n",
    "    return x * y\n",
    "\n",
    "# List of numbers\n",
    "numbers = [2, 3, 4, 5]\n",
    "\n",
    "# Using reduce() to find the product of all numbers in the list\n",
    "product = reduce(multiply, numbers)\n",
    "\n",
    "print(\"Original list:\", numbers)\n",
    "print(\"Product of the numbers using reduce():\", product)\n"
   ]
  },
  {
   "cell_type": "markdown",
   "id": "6331df72-e4ac-4330-abdd-83a6ee850c8c",
   "metadata": {},
   "source": [
    "3. Create a Python program that uses `reduce()` to find the maximum element in a list of numbers.\n"
   ]
  },
  {
   "cell_type": "code",
   "execution_count": 11,
   "id": "65e7b2c5-ddf3-4482-a0a1-b0cfde600dc8",
   "metadata": {},
   "outputs": [
    {
     "name": "stdout",
     "output_type": "stream",
     "text": [
      "Original list: [12, 45, 23, 67, 5, 89, 34]\n",
      "Maximum number using reduce(): 89\n"
     ]
    }
   ],
   "source": [
    "from functools import reduce\n",
    "\n",
    "# Function to find the maximum of two numbers\n",
    "def find_max(x, y):\n",
    "    return x if x > y else y\n",
    "\n",
    "# List of numbers\n",
    "numbers = [12, 45, 23, 67, 5, 89, 34]\n",
    "\n",
    "# Using reduce() to find the maximum number in the list\n",
    "maximum_number = reduce(find_max, numbers)\n",
    "\n",
    "print(\"Original list:\", numbers)\n",
    "print(\"Maximum number using reduce():\", maximum_number)\n"
   ]
  },
  {
   "cell_type": "markdown",
   "id": "2b7d9b28-63d6-4712-9d51-d5606bae0356",
   "metadata": {},
   "source": [
    "4. How can you use the `reduce()` function to concatenate a list of strings into a single string?\n"
   ]
  },
  {
   "cell_type": "code",
   "execution_count": 12,
   "id": "8adaa891-0441-491d-9105-b022e8c4db6b",
   "metadata": {},
   "outputs": [
    {
     "name": "stdout",
     "output_type": "stream",
     "text": [
      "Original list of strings: ['Hello, ', 'how ', 'are ', 'you?']\n",
      "Concatenated string using reduce(): Hello, how are you?\n"
     ]
    }
   ],
   "source": [
    "from functools import reduce\n",
    "\n",
    "# Function to concatenate two strings\n",
    "def concatenate_strings(x, y):\n",
    "    return x + y\n",
    "\n",
    "# List of strings\n",
    "strings = [\"Hello, \", \"how \", \"are \", \"you?\"]\n",
    "\n",
    "# Using reduce() to concatenate the strings into a single string\n",
    "concatenated_string = reduce(concatenate_strings, strings)\n",
    "\n",
    "print(\"Original list of strings:\", strings)\n",
    "print(\"Concatenated string using reduce():\", concatenated_string)\n"
   ]
  },
  {
   "cell_type": "markdown",
   "id": "1c0aab28-6be9-4e98-bfd0-748fc65909f6",
   "metadata": {},
   "source": [
    "5. Write a Python program that calculates the factorial of a number using the `reduce()` function.\n"
   ]
  },
  {
   "cell_type": "code",
   "execution_count": 13,
   "id": "fa666f7e-65fb-49f7-b431-45b4e3d345f3",
   "metadata": {},
   "outputs": [
    {
     "name": "stdout",
     "output_type": "stream",
     "text": [
      "The factorial of 5 is: 120\n"
     ]
    }
   ],
   "source": [
    "from functools import reduce\n",
    "\n",
    "# Function to calculate factorial\n",
    "def calculate_factorial(x, y):\n",
    "    return x * y\n",
    "\n",
    "# Number to calculate factorial\n",
    "number = 5\n",
    "\n",
    "# Using reduce() to calculate factorial\n",
    "factorial = reduce(calculate_factorial, range(1, number + 1), 1)\n",
    "\n",
    "print(f\"The factorial of {number} is:\", factorial)\n"
   ]
  },
  {
   "cell_type": "markdown",
   "id": "84fab066-4080-4d13-bdab-94528e6abcf7",
   "metadata": {},
   "source": [
    "6. Create a Python program that uses `reduce()` to find the GCD (Greatest Common Divisor) of a list of numbers.\n"
   ]
  },
  {
   "cell_type": "code",
   "execution_count": 14,
   "id": "1e9654d0-0333-41bf-b31f-33d3333614fa",
   "metadata": {},
   "outputs": [
    {
     "name": "stdout",
     "output_type": "stream",
     "text": [
      "List of numbers: [24, 36, 48, 60]\n",
      "GCD of the numbers: 12\n"
     ]
    }
   ],
   "source": [
    "from functools import reduce\n",
    "from math import gcd\n",
    "\n",
    "# List of numbers\n",
    "numbers = [24, 36, 48, 60]\n",
    "\n",
    "# Using reduce() and math.gcd() to find the GCD of the numbers in the list\n",
    "gcd_result = reduce(gcd, numbers)\n",
    "\n",
    "print(\"List of numbers:\", numbers)\n",
    "print(\"GCD of the numbers:\", gcd_result)\n"
   ]
  },
  {
   "cell_type": "markdown",
   "id": "d52803be-6bf6-46c1-ac8d-0ba0b775044a",
   "metadata": {},
   "source": [
    "7. Write a Python program that uses the `reduce()` function to find the sum of the digits of a given number.\n"
   ]
  },
  {
   "cell_type": "code",
   "execution_count": 15,
   "id": "8a5e02e1-d48a-4c92-9c09-6981dc5f6c03",
   "metadata": {},
   "outputs": [
    {
     "name": "stdout",
     "output_type": "stream",
     "text": [
      "Given number: 12345\n",
      "Sum of its digits using reduce(): 15\n"
     ]
    }
   ],
   "source": [
    "from functools import reduce\n",
    "\n",
    "# Function to sum two numbers\n",
    "def sum_digits(x, y):\n",
    "    return int(x) + int(y)\n",
    "\n",
    "# Given number\n",
    "number = 12345\n",
    "\n",
    "# Convert the number to a string and iterate over its digits to find the sum\n",
    "sum_of_digits = reduce(sum_digits, str(number), 0)\n",
    "\n",
    "print(\"Given number:\", number)\n",
    "print(\"Sum of its digits using reduce():\", sum_of_digits)\n"
   ]
  },
  {
   "cell_type": "markdown",
   "id": "ce678d3b-4a79-4bfc-a490-1b8020a55315",
   "metadata": {},
   "source": [
    "Filter "
   ]
  },
  {
   "cell_type": "markdown",
   "id": "14f54b0d-e99d-42cf-bba3-ee7386c1828d",
   "metadata": {},
   "source": [
    "1. Explain the purpose of the `filter()` function in Python and provide an example of how it can be used to filter elements from an iterable."
   ]
  },
  {
   "cell_type": "code",
   "execution_count": 8,
   "id": "6a06adb1-cb47-4951-a1f8-f520ed5abb5e",
   "metadata": {},
   "outputs": [
    {
     "name": "stdout",
     "output_type": "stream",
     "text": [
      "[2, 4, 6, 8, 10]\n"
     ]
    }
   ],
   "source": [
    "'''The filter() function selects elements from an iterable (list, tuple etc.) based on the output of a function.\n",
    " The function is applied to each element of the iterable and if it returns True , the element is selected by the filter() function.'''\n",
    "\n",
    "\n",
    "# Define a function to filter even numbers\n",
    "def is_even(num):\n",
    "    return num % 2 == 0\n",
    "\n",
    "# Create a list of numbers\n",
    "numbers = [1, 2, 3, 4, 5, 6, 7, 8, 9, 10]\n",
    "\n",
    "# Use filter() to get only even numbers\n",
    "even_numbers = filter(is_even, numbers)\n",
    "\n",
    "# Convert the result to a list (as filter returns an iterator)\n",
    "result_list = list(even_numbers)\n",
    "\n",
    "# Print the result\n",
    "print(result_list)\n"
   ]
  },
  {
   "cell_type": "markdown",
   "id": "82f78985-3b7c-4ece-9145-7339c1d8ad07",
   "metadata": {},
   "source": [
    "2. Write a Python program that uses the `filter()` function to select even numbers from a list of integers."
   ]
  },
  {
   "cell_type": "code",
   "execution_count": 2,
   "id": "73a32ee6-4f02-4e09-b7e3-a03266b403a0",
   "metadata": {},
   "outputs": [
    {
     "name": "stdout",
     "output_type": "stream",
     "text": [
      "Original list: [1, 2, 3, 4, 5, 6, 7, 8, 9, 10]\n",
      "Even numbers: [2, 4, 6, 8, 10]\n"
     ]
    }
   ],
   "source": [
    "# Define a function to filter even numbers\n",
    "def is_even(num):\n",
    "    return num % 2 == 0\n",
    "\n",
    "# Create a list of integers\n",
    "numbers = [1, 2, 3, 4, 5, 6, 7, 8, 9, 10]\n",
    "\n",
    "# Use filter() to get only even numbers\n",
    "even_numbers = filter(is_even, numbers)\n",
    "\n",
    "# Convert the result to a list (as filter returns an iterator)\n",
    "result_list = list(even_numbers)\n",
    "\n",
    "# Print the result\n",
    "print(\"Original list:\", numbers)\n",
    "print(\"Even numbers:\", result_list)\n"
   ]
  },
  {
   "cell_type": "markdown",
   "id": "8414f850-cf9c-4c3b-b16d-805fec8c89ed",
   "metadata": {},
   "source": [
    "3. Create a Python program that uses the `filter()` function to select names that start with a specific letter from a list of strings.\n"
   ]
  },
  {
   "cell_type": "code",
   "execution_count": 6,
   "id": "2fc854ea-541c-49ae-b1ca-7a440198e7a9",
   "metadata": {},
   "outputs": [
    {
     "name": "stdout",
     "output_type": "stream",
     "text": [
      "Original list of names: ['Anmol', 'Bobi', 'Charlie', 'Denver', 'Eva', 'Foog', 'Grace']\n",
      "Names starting with 'C': ['Charlie']\n"
     ]
    }
   ],
   "source": [
    "# Define a function to filter names starting with a specific letter\n",
    "def starts_with_letter(letter, name):\n",
    "    return name.startswith(letter)\n",
    "\n",
    "# Create a list of names\n",
    "names = [\"Anmol\", \"Bobi\", \"Charlie\", \"Denver\", \"Eva\", \"Foog\", \"Grace\"]\n",
    "\n",
    "# Choose a specific letter to filter names\n",
    "selected_letter = \"C\"\n",
    "\n",
    "# Use filter() to get only names starting with the selected letter\n",
    "selected_names = filter(lambda x: starts_with_letter(selected_letter, x), names)\n",
    "\n",
    "# Convert the result to a list (as filter returns an iterator)\n",
    "result_list = list(selected_names)\n",
    "\n",
    "# Print the result\n",
    "print(\"Original list of names:\", names)\n",
    "print(f\"Names starting with '{selected_letter}':\", result_list)\n"
   ]
  },
  {
   "cell_type": "markdown",
   "id": "ea53f79a-6d67-41c2-a930-a134e077450e",
   "metadata": {},
   "source": [
    "4. Write a Python program that uses the `filter()` function to select prime numbers from a list of integers."
   ]
  },
  {
   "cell_type": "code",
   "execution_count": 7,
   "id": "54d3e58a-3b7d-45d4-95ed-e2b447ad5701",
   "metadata": {},
   "outputs": [
    {
     "name": "stdout",
     "output_type": "stream",
     "text": [
      "Original list of numbers: [1, 2, 3, 4, 5, 6, 7, 8, 9, 10, 11, 12, 13, 14, 15]\n",
      "Prime numbers: [2, 3, 5, 7, 11, 13]\n"
     ]
    }
   ],
   "source": [
    "# Define a function to check if a number is prime\n",
    "def is_prime(num):\n",
    "    if num < 2:\n",
    "        return False\n",
    "    for i in range(2, int(num**0.5) + 1):\n",
    "        if num % i == 0:\n",
    "            return False\n",
    "    return True\n",
    "\n",
    "# Create a list of integers\n",
    "numbers = [1, 2, 3, 4, 5, 6, 7, 8, 9, 10, 11, 12, 13, 14, 15]\n",
    "\n",
    "# Use filter() to get only prime numbers\n",
    "prime_numbers = filter(is_prime, numbers)\n",
    "\n",
    "# Convert the result to a list (as filter returns an iterator)\n",
    "result_list = list(prime_numbers)\n",
    "\n",
    "# Print the result\n",
    "print(\"Original list of numbers:\", numbers)\n",
    "print(\"Prime numbers:\", result_list)\n"
   ]
  },
  {
   "cell_type": "markdown",
   "id": "c8260f7b-a224-4431-819d-8b3297511c9e",
   "metadata": {},
   "source": [
    "5. How can you use the `filter()` function to remove None values from a list in Python?\n"
   ]
  },
  {
   "cell_type": "code",
   "execution_count": 8,
   "id": "613f8594-627d-4824-a194-942afd81733e",
   "metadata": {},
   "outputs": [
    {
     "name": "stdout",
     "output_type": "stream",
     "text": [
      "Original list: [1, None, 3, 4, None, 6, 7, None, 9]\n",
      "List without None values: [1, 3, 4, 6, 7, 9]\n"
     ]
    }
   ],
   "source": [
    "# Create a list with some None values\n",
    "original_list = [1, None, 3, 4, None, 6, 7, None, 9]\n",
    "\n",
    "# Use filter() to remove None values\n",
    "filtered_list = filter(lambda x: x is not None, original_list)\n",
    "\n",
    "# Convert the result to a list (as filter returns an iterator)\n",
    "result_list = list(filtered_list)\n",
    "\n",
    "# Print the result\n",
    "print(\"Original list:\", original_list)\n",
    "print(\"List without None values:\", result_list)\n",
    "\n"
   ]
  },
  {
   "cell_type": "markdown",
   "id": "8f2b5771-25ce-4bd1-b333-a6bf32dd44b4",
   "metadata": {},
   "source": [
    "6. Create a Python program that uses `filter()` to select words longer than a certain length from a list of strings."
   ]
  },
  {
   "cell_type": "code",
   "execution_count": 10,
   "id": "37a39260-6b08-4fa3-9914-df0e66666784",
   "metadata": {},
   "outputs": [
    {
     "name": "stdout",
     "output_type": "stream",
     "text": [
      "Original list of words: ['apple', 'banana', 'orange', 'grape', 'kiwi', 'strawberry']\n",
      "Words longer than 5 characters: ['banana', 'orange', 'strawberry']\n"
     ]
    }
   ],
   "source": [
    "# Define a function to filter words based on length\n",
    "def is_long_word(word, length):\n",
    "    return len(word) > length\n",
    "\n",
    "# Create a list of strings\n",
    "word_list = [\"apple\", \"banana\", \"orange\", \"grape\", \"kiwi\", \"strawberry\"]\n",
    "\n",
    "# Specify the minimum length for words\n",
    "min_length = 5\n",
    "\n",
    "# Use filter() to get only words longer than the specified length\n",
    "long_words = filter(lambda x: is_long_word(x, min_length), word_list)\n",
    "\n",
    "# Convert the result to a list (as filter returns an iterator)\n",
    "result_list = list(long_words)\n",
    "\n",
    "# Print the result\n",
    "print(\"Original list of words:\", word_list)\n",
    "print(f\"Words longer than {min_length} characters:\", result_list)\n"
   ]
  },
  {
   "cell_type": "markdown",
   "id": "0e7d3446-8061-46f2-acf6-b91f44607292",
   "metadata": {},
   "source": [
    "7. Write a Python program that uses the `filter()` function to select elements greater than a specified threshold from a list of values.\n"
   ]
  },
  {
   "cell_type": "code",
   "execution_count": 11,
   "id": "de5bf445-8f5f-4cc6-b96b-40b80e338359",
   "metadata": {},
   "outputs": [
    {
     "name": "stdout",
     "output_type": "stream",
     "text": [
      "Original list of values: [10, 5, 15, 8, 20, 12, 3, 18]\n",
      "Values greater than 10: [15, 20, 12, 18]\n"
     ]
    }
   ],
   "source": [
    "# Define a function to filter elements based on a threshold\n",
    "def is_greater_than_threshold(value, threshold):\n",
    "    return value > threshold\n",
    "\n",
    "# Create a list of values\n",
    "values = [10, 5, 15, 8, 20, 12, 3, 18]\n",
    "\n",
    "# Specify the threshold\n",
    "threshold = 10\n",
    "\n",
    "# Use filter() to get only values greater than the specified threshold\n",
    "filtered_values = filter(lambda x: is_greater_than_threshold(x, threshold), values)\n",
    "\n",
    "# Convert the result to a list (as filter returns an iterator)\n",
    "result_list = list(filtered_values)\n",
    "\n",
    "# Print the result\n",
    "print(\"Original list of values:\", values)\n",
    "print(f\"Values greater than {threshold}:\", result_list)\n"
   ]
  },
  {
   "cell_type": "markdown",
   "id": "177dc4bb-29fb-4fac-9db5-5e2010696412",
   "metadata": {},
   "source": [
    "Recursion:-"
   ]
  },
  {
   "cell_type": "markdown",
   "id": "f05ac26e-7a00-4b6d-a5ec-d737592d4e0a",
   "metadata": {},
   "source": [
    "1. Explain the concept of recursion in Python. How does it differ from iteration?\n"
   ]
  },
  {
   "cell_type": "code",
   "execution_count": 24,
   "id": "742d9f24-a7b7-4aaf-b8fc-b3e04eb12d0e",
   "metadata": {},
   "outputs": [
    {
     "data": {
      "text/plain": [
       "'Recursion is a technique in which the function calls itself in its body to solve the problem,\\n typically breaking into smaller and more manageable sub-problems. In contrast, Iteration is a technique that repetitively\\n  executes a code block until the condition is unmet.\\n\\n  Recursion and iteration are both different ways to execute a set of instructions repeatedly.\\n   The main difference between these two is that in recursion, we use function calls to execute the statements repeatedly\\n   inside the function body, while in iteration, we use loops like “for” and “while” to do the same.'"
      ]
     },
     "execution_count": 24,
     "metadata": {},
     "output_type": "execute_result"
    }
   ],
   "source": [
    "'''Recursion is a technique in which the function calls itself in its body to solve the problem,\n",
    " typically breaking into smaller and more manageable sub-problems. In contrast, Iteration is a technique that repetitively\n",
    "  executes a code block until the condition is unmet.\n",
    "\n",
    "  Recursion and iteration are both different ways to execute a set of instructions repeatedly.\n",
    "   The main difference between these two is that in recursion, we use function calls to execute the statements repeatedly\n",
    "   inside the function body, while in iteration, we use loops like “for” and “while” to do the same.'''"
   ]
  },
  {
   "cell_type": "markdown",
   "id": "4ea84433-f8aa-4780-8957-ef5d78f19a9b",
   "metadata": {},
   "source": [
    "2. Write a Python program to calculate the factorial of a number using recursion.\n"
   ]
  },
  {
   "cell_type": "code",
   "execution_count": 20,
   "id": "3a5f89ad-f398-4650-81e9-3745335127e4",
   "metadata": {},
   "outputs": [
    {
     "name": "stdin",
     "output_type": "stream",
     "text": [
      "Enter a non-negative integer:  23\n"
     ]
    },
    {
     "name": "stdout",
     "output_type": "stream",
     "text": [
      "The factorial of 23 is: 25852016738884976640000\n"
     ]
    }
   ],
   "source": [
    "def factorial(n):\n",
    "    if n == 0 or n == 1:\n",
    "        return 1\n",
    "    else:\n",
    "        return n * factorial(n - 1)\n",
    "\n",
    "# Get user input for the number\n",
    "try:\n",
    "    number = int(input(\"Enter a non-negative integer: \"))\n",
    "    if number < 0:\n",
    "        raise ValueError(\"Please enter a non-negative integer.\")\n",
    "except ValueError as e:\n",
    "    print(f\"Error: {e}\")\n",
    "else:\n",
    "    # Calculate and print the factorial\n",
    "    result = factorial(number)\n",
    "    print(f\"The factorial of {number} is: {result}\")\n"
   ]
  },
  {
   "cell_type": "markdown",
   "id": "b6c2e55e-d903-4fd1-b1e2-530a645b1bd3",
   "metadata": {},
   "source": [
    "3. Create a recursive Python function to find the nth Fibonacci number."
   ]
  },
  {
   "cell_type": "code",
   "execution_count": 21,
   "id": "511d4639-dfac-4fb5-b5e5-bd68ac6eea50",
   "metadata": {},
   "outputs": [
    {
     "name": "stdin",
     "output_type": "stream",
     "text": [
      "Enter a positive integer to find the nth Fibonacci number:  21\n"
     ]
    },
    {
     "name": "stdout",
     "output_type": "stream",
     "text": [
      "The 21th Fibonacci number is: 6765\n"
     ]
    }
   ],
   "source": [
    "def fibonacci(n):\n",
    "    if n <= 0:\n",
    "        return \"Invalid input. Please enter a positive integer.\"\n",
    "    elif n == 1:\n",
    "        return 0\n",
    "    elif n == 2:\n",
    "        return 1\n",
    "    else:\n",
    "        return fibonacci(n - 1) + fibonacci(n - 2)\n",
    "\n",
    "# Get user input for the position in the Fibonacci sequence\n",
    "try:\n",
    "    position = int(input(\"Enter a positive integer to find the nth Fibonacci number: \"))\n",
    "    if position <= 0:\n",
    "        raise ValueError(\"Please enter a positive integer.\")\n",
    "except ValueError as e:\n",
    "    print(f\"Error: {e}\")\n",
    "else:\n",
    "    # Calculate and print the nth Fibonacci number\n",
    "    result = fibonacci(position)\n",
    "    print(f\"The {position}th Fibonacci number is: {result}\")\n"
   ]
  },
  {
   "cell_type": "markdown",
   "id": "c3b00581-625c-4c9b-b5ba-129f2926e2d2",
   "metadata": {},
   "source": [
    "4. Write a recursive Python function to calculate the sum of all elements in a list.\n"
   ]
  },
  {
   "cell_type": "code",
   "execution_count": 22,
   "id": "4e65883b-04ee-4346-83a4-6fcf450c9edc",
   "metadata": {},
   "outputs": [
    {
     "name": "stdout",
     "output_type": "stream",
     "text": [
      "List: [1, 2, 3, 4, 5]\n",
      "Sum of elements: 15\n"
     ]
    }
   ],
   "source": [
    "def recursive_sum(lst):\n",
    "    if not lst:\n",
    "        return 0\n",
    "    else:\n",
    "        return lst[0] + recursive_sum(lst[1:])\n",
    "\n",
    "# Example: Calculate the sum of elements in a list\n",
    "numbers = [1, 2, 3, 4, 5]\n",
    "result = recursive_sum(numbers)\n",
    "\n",
    "# Print the result\n",
    "print(\"List:\", numbers)\n",
    "print(\"Sum of elements:\", result)\n"
   ]
  },
  {
   "cell_type": "markdown",
   "id": "e9fe5c7d-129a-4110-85ad-67a0704c8471",
   "metadata": {},
   "source": [
    "5. How can you prevent a recursive function from running indefinitely, causing a stack overflow error?\n"
   ]
  },
  {
   "cell_type": "code",
   "execution_count": 9,
   "id": "1e7708ec-c3fb-4d40-bea3-57a8d351dca0",
   "metadata": {},
   "outputs": [
    {
     "data": {
      "text/plain": [
       "'In order to prevent stack overflow bugs, you must have a base case\\n where the function stops make new recursive calls.\\nIf there is no base case then the function calls will never stop and\\n eventually a stack overflow will occur. '"
      ]
     },
     "execution_count": 9,
     "metadata": {},
     "output_type": "execute_result"
    }
   ],
   "source": [
    "'''In order to prevent stack overflow bugs, you must have a base case\n",
    " where the function stops make new recursive calls.\n",
    "If there is no base case then the function calls will never stop and\n",
    " eventually a stack overflow will occur. '''"
   ]
  },
  {
   "cell_type": "markdown",
   "id": "d15c4958-c1d2-4b1b-a856-456a15bc1037",
   "metadata": {},
   "source": [
    "6. Create a recursive Python function to find the greatest common divisor (GCD) of two numbers using the Euclidean algorithm."
   ]
  },
  {
   "cell_type": "code",
   "execution_count": 10,
   "id": "906ab8d5-b238-48a1-9564-186c14905029",
   "metadata": {},
   "outputs": [
    {
     "name": "stdin",
     "output_type": "stream",
     "text": [
      "Enter the first number:  1\n",
      "Enter the second number:  3\n"
     ]
    },
    {
     "name": "stdout",
     "output_type": "stream",
     "text": [
      "The GCD of 1 and 3 is 1\n"
     ]
    }
   ],
   "source": [
    "# Recursive function to find the GCD of two numbers using the Euclidean algorithm\n",
    "def gcd(a, b):\n",
    "    if b == 0:\n",
    "        return a\n",
    "    else:\n",
    "        return gcd(b, a % b)\n",
    "\n",
    "# Input: Get two numbers from the user\n",
    "num1 = int(input(\"Enter the first number: \"))\n",
    "num2 = int(input(\"Enter the second number: \"))\n",
    "\n",
    "# Calculate the GCD using the recursive function\n",
    "result = gcd(num1, num2)\n",
    "\n",
    "# Print the result\n",
    "print(f\"The GCD of {num1} and {num2} is {result}\")"
   ]
  },
  {
   "cell_type": "markdown",
   "id": "4900b315-bcb4-4d84-b7ac-5ca10b0909af",
   "metadata": {},
   "source": [
    "7. Write a recursive Python function to reverse a string."
   ]
  },
  {
   "cell_type": "code",
   "execution_count": 16,
   "id": "5c58ccd8-68e7-4643-93f4-6cec82d5a690",
   "metadata": {},
   "outputs": [
    {
     "data": {
      "text/plain": [
       "'hdus'"
      ]
     },
     "execution_count": 16,
     "metadata": {},
     "output_type": "execute_result"
    }
   ],
   "source": [
    "## reverse a string using recursion:\n",
    "\n",
    "def rev_str(s):\n",
    "    if s == \"\":\n",
    "        return \"\"\n",
    "    else:\n",
    "        return rev_str(s[1:]) + s[0]\n",
    "\n",
    "## call function:\n",
    "rev_str(\"sudh\")"
   ]
  },
  {
   "cell_type": "markdown",
   "id": "45913814-e578-43c1-bef3-7b9d9bfd5740",
   "metadata": {},
   "source": [
    "8. Create a recursive Python function to calculate the power of a number (x^n).\n"
   ]
  },
  {
   "cell_type": "code",
   "execution_count": 17,
   "id": "38ae4c25-cb1b-42d6-aa6b-0ffb10c6a1f5",
   "metadata": {},
   "outputs": [
    {
     "name": "stdout",
     "output_type": "stream",
     "text": [
      "81\n"
     ]
    }
   ],
   "source": [
    "def power(x, n):\n",
    "    if n == 0:\n",
    "        return 1\n",
    "    else:\n",
    "        return x * power(x, n - 1)\n",
    "\n",
    "# Example usage:\n",
    "result = power(3, 4)\n",
    "print(result)\n"
   ]
  },
  {
   "cell_type": "markdown",
   "id": "0f067f71-346d-4d2d-a0e0-0eadbcf9ab04",
   "metadata": {},
   "source": [
    "9. Write a recursive Python function to find all permutations of a given string.\n"
   ]
  },
  {
   "cell_type": "code",
   "execution_count": 18,
   "id": "685b12f3-8d4d-4c8e-8dc1-283027e43567",
   "metadata": {},
   "outputs": [
    {
     "name": "stdout",
     "output_type": "stream",
     "text": [
      "['abc', 'acb', 'bac', 'bca', 'cab', 'cba']\n"
     ]
    }
   ],
   "source": [
    "def get_permutations(string):\n",
    "    if len(string) == 1:\n",
    "        return [string]\n",
    "    \n",
    "    permutations = []\n",
    "    for i in range(len(string)):\n",
    "        # Choose the current character as the first character\n",
    "        current_char = string[i]\n",
    "\n",
    "        # Exclude the current character and get permutations of the remaining characters\n",
    "        remaining_chars = string[:i] + string[i+1:]\n",
    "        remaining_permutations = get_permutations(remaining_chars)\n",
    "\n",
    "        # Append the current character to each permutation of the remaining characters\n",
    "        for perm in remaining_permutations:\n",
    "            permutations.append(current_char + perm)\n",
    "\n",
    "    return permutations\n",
    "\n",
    "# Example usage:\n",
    "result = get_permutations(\"abc\")\n",
    "print(result)\n"
   ]
  },
  {
   "cell_type": "markdown",
   "id": "dbfcb242-53a9-423d-beba-d04e9e5a9c82",
   "metadata": {},
   "source": [
    "10. Write a recursive Python function to check if a string is a palindrome.\n"
   ]
  },
  {
   "cell_type": "code",
   "execution_count": 19,
   "id": "2a982fa1-63d0-42f5-ab15-b7f65215fec3",
   "metadata": {},
   "outputs": [
    {
     "name": "stdout",
     "output_type": "stream",
     "text": [
      "True\n",
      "False\n"
     ]
    }
   ],
   "source": [
    "def is_palindrome(s):\n",
    "    # Base case: an empty string or a string with one character is always a palindrome\n",
    "    if len(s) <= 1:\n",
    "        return True\n",
    "\n",
    "    # Check if the first and last characters are the same\n",
    "    if s[0] == s[-1]:\n",
    "        # Recursively check if the substring between the first and last characters is a palindrome\n",
    "        return is_palindrome(s[1:-1])\n",
    "    else:\n",
    "        # If the first and last characters are not the same, the string is not a palindrome\n",
    "        return False\n",
    "\n",
    "# Example usage:\n",
    "result1 = is_palindrome(\"level\")\n",
    "result2 = is_palindrome(\"hello\")\n",
    "\n",
    "print(result1)  # Should print True\n",
    "print(result2)  # Should print False\n"
   ]
  },
  {
   "cell_type": "markdown",
   "id": "64a101b8-f154-4869-aade-e2583591a18b",
   "metadata": {},
   "source": [
    "11. Create a recursive Python function to generate all possible combinations of a list of elements.\n"
   ]
  },
  {
   "cell_type": "code",
   "execution_count": 20,
   "id": "b9d56475-a7df-4297-b79a-802de6829274",
   "metadata": {},
   "outputs": [
    {
     "name": "stdout",
     "output_type": "stream",
     "text": [
      "[[], [3], [2], [3, 2], [1], [3, 1], [2, 1], [3, 2, 1]]\n"
     ]
    }
   ],
   "source": [
    "def generate_combinations(elements):\n",
    "    if not elements:\n",
    "        return [[]]  # Base case: return a list containing an empty list\n",
    "\n",
    "    first_element = elements[0]\n",
    "    remaining_elements = elements[1:]\n",
    "\n",
    "    # Recursively generate combinations without the first element\n",
    "    combinations_without_first = generate_combinations(remaining_elements)\n",
    "\n",
    "    # Combine the first element with each combination generated without it\n",
    "    combinations_with_first = [combination + [first_element] for combination in combinations_without_first]\n",
    "\n",
    "    # Include combinations without the first element\n",
    "    result = combinations_without_first + combinations_with_first\n",
    "\n",
    "    return result\n",
    "\n",
    "# Example usage:\n",
    "elements = [1, 2, 3]\n",
    "result = generate_combinations(elements)\n",
    "print(result)\n"
   ]
  },
  {
   "cell_type": "markdown",
   "id": "1ceffa60-454b-47c6-be5b-04475acea106",
   "metadata": {},
   "source": [
    "Basics of Functions:\n"
   ]
  },
  {
   "cell_type": "markdown",
   "id": "c6f0ecc7-64cf-4d81-b3e4-7a9d9351dfc8",
   "metadata": {},
   "source": [
    "1. What is a function in Python, and why is it used?"
   ]
  },
  {
   "cell_type": "code",
   "execution_count": 21,
   "id": "8682af41-cf4d-49af-a412-cd73f35524aa",
   "metadata": {},
   "outputs": [
    {
     "data": {
      "text/plain": [
       "'Python Functions is a block of statements that return the specific task.\\nThe idea is to put some commonly or repeatedly done tasks together and\\nmake a function so that instead of writing the same code again and again\\nfor different inputs, we can do the function calls to reuse code contained\\nin it over and over again.\\n\\nSome Benefits of Using Functions\\n\\nIncrease Code Readability\\nIncrease Code Reusability'"
      ]
     },
     "execution_count": 21,
     "metadata": {},
     "output_type": "execute_result"
    }
   ],
   "source": [
    "'''Python Functions is a block of statements that return the specific task.\n",
    "The idea is to put some commonly or repeatedly done tasks together and\n",
    "make a function so that instead of writing the same code again and again\n",
    "for different inputs, we can do the function calls to reuse code contained\n",
    "in it over and over again.\n",
    "\n",
    "Some Benefits of Using Functions\n",
    "\n",
    "Increase Code Readability\n",
    "Increase Code Reusability'''"
   ]
  },
  {
   "cell_type": "markdown",
   "id": "82b44474-6270-45f8-a90d-56f5332f9fe6",
   "metadata": {},
   "source": [
    "2. How do you define a function in Python? Provide an example."
   ]
  },
  {
   "cell_type": "code",
   "execution_count": 22,
   "id": "4403beb4-7d39-40fd-b7ec-42c22f3efca9",
   "metadata": {},
   "outputs": [
    {
     "data": {
      "text/plain": [
       "8"
      ]
     },
     "execution_count": 22,
     "metadata": {},
     "output_type": "execute_result"
    }
   ],
   "source": [
    "## To define a finction in python we have to follw the following steps:\n",
    "\n",
    "## define a function using a 'def' keyword and then we can write the\n",
    "#function name and put arguments in it if required.\n",
    "\n",
    "## for example: create a function to sum two numbers:\n",
    "\n",
    "def add(a,b):\n",
    "    return a+b\n",
    "\n",
    "## now call the function:\n",
    "\n",
    "add(2,6)"
   ]
  },
  {
   "cell_type": "markdown",
   "id": "088a460c-51b2-40a4-a40c-44e7e733e6f4",
   "metadata": {},
   "source": [
    "3. Explain the difference between a function definition and a function call."
   ]
  },
  {
   "cell_type": "code",
   "execution_count": 23,
   "id": "3383f222-1e95-4a26-a9a3-f27a9f1e2ee2",
   "metadata": {},
   "outputs": [
    {
     "data": {
      "text/plain": [
       "'A  function is a piece of code which enhanced the reusability and\\nmodularity of your program. It means that piece of code need not be written again\\n. A function call means invoking or calling that function. Unless a function is\\n called there is no use of that function.'"
      ]
     },
     "execution_count": 23,
     "metadata": {},
     "output_type": "execute_result"
    }
   ],
   "source": [
    "'''A  function is a piece of code which enhanced the reusability and\n",
    "modularity of your program. It means that piece of code need not be written again\n",
    ". A function call means invoking or calling that function. Unless a function is\n",
    " called there is no use of that function.'''"
   ]
  },
  {
   "cell_type": "markdown",
   "id": "581cf497-d243-495d-9dbe-70c74cad81d1",
   "metadata": {},
   "source": [
    "4. Write a Python program that defines a function to calculate the sum of two numbers and then calls the function."
   ]
  },
  {
   "cell_type": "code",
   "execution_count": 25,
   "id": "1783d4ff-79bd-4d61-91cb-f0b47df699e9",
   "metadata": {},
   "outputs": [
    {
     "name": "stdout",
     "output_type": "stream",
     "text": [
      "The sum of 5 and 7 is: 12\n"
     ]
    }
   ],
   "source": [
    "def calculate_sum(a, b):\n",
    "    result = a + b\n",
    "    return result\n",
    "\n",
    "# Example usage:\n",
    "number1 = 5\n",
    "number2 = 7\n",
    "\n",
    "sum_result = calculate_sum(number1, number2)\n",
    "\n",
    "print(f\"The sum of {number1} and {number2} is: {sum_result}\")\n"
   ]
  },
  {
   "cell_type": "markdown",
   "id": "c219947e-4913-48da-8a2c-89a28a8e22ae",
   "metadata": {},
   "source": [
    "5. What is a function signature, and what information does it typically include?"
   ]
  },
  {
   "cell_type": "code",
   "execution_count": 26,
   "id": "c6638672-3238-4cef-869c-505d31ccc682",
   "metadata": {},
   "outputs": [
    {
     "data": {
      "text/plain": [
       "'The signature of a function tells you what are the types of inputs required by your function along with annotations,\\n and also the type of information that the function returns. The signature() function in Python, is used to find the signature of a function. '"
      ]
     },
     "execution_count": 26,
     "metadata": {},
     "output_type": "execute_result"
    }
   ],
   "source": [
    "'''The signature of a function tells you what are the types of inputs required by your function along with annotations,\n",
    " and also the type of information that the function returns. The signature() function in Python, is used to find the signature of a function. '''"
   ]
  },
  {
   "cell_type": "markdown",
   "id": "3504da63-f77b-466a-8d22-a4f856cab0c6",
   "metadata": {},
   "source": [
    "6. Create a Python function that takes two arguments and returns their product."
   ]
  },
  {
   "cell_type": "code",
   "execution_count": 27,
   "id": "54a96edf-96e2-4068-8776-ec5cde79b58f",
   "metadata": {},
   "outputs": [
    {
     "name": "stdout",
     "output_type": "stream",
     "text": [
      "The product of 5 and 7 is: 35\n"
     ]
    }
   ],
   "source": [
    "def calculate_product(a, b):\n",
    "    result = a * b\n",
    "    return result\n",
    "\n",
    "# Example usage:\n",
    "number1 = 5\n",
    "number2 = 7\n",
    "\n",
    "product_result = calculate_product(number1, number2)\n",
    "\n",
    "print(f\"The product of {number1} and {number2} is: {product_result}\")\n"
   ]
  },
  {
   "cell_type": "markdown",
   "id": "eabf1962-9de4-4007-a4af-3606e40518d1",
   "metadata": {},
   "source": [
    "Function Parameters and Arguments:"
   ]
  },
  {
   "cell_type": "markdown",
   "id": "18a7f21d-bbc4-4f21-96c3-f3d0b364c230",
   "metadata": {},
   "source": [
    "1. Explain the concepts of formal parameters and actual arguments in Python functions."
   ]
  },
  {
   "cell_type": "code",
   "execution_count": 28,
   "id": "3f9d0565-b618-4e62-a0a2-394665c3fe72",
   "metadata": {},
   "outputs": [
    {
     "data": {
      "text/plain": [
       "'The major difference between actual and formal parameters is that formal parameters are\\n declared on calling the function and the actual parameter is declared on invoking. The actual parameters can carry\\n constant values whereas formal parameters carry variables\\n\\n Actual Parameters\\nWhen a function is called, the values (expressions) that are passed in the function call are called the arguments or actual parameters.\\n\\nformal:\\nThe parameter used in function definition statement which contain data type on its time of declaration is called formal parameter.'"
      ]
     },
     "execution_count": 28,
     "metadata": {},
     "output_type": "execute_result"
    }
   ],
   "source": [
    "'''The major difference between actual and formal parameters is that formal parameters are\n",
    " declared on calling the function and the actual parameter is declared on invoking. The actual parameters can carry\n",
    " constant values whereas formal parameters carry variables\n",
    "\n",
    " Actual Parameters\n",
    "When a function is called, the values (expressions) that are passed in the function call are called the arguments or actual parameters.\n",
    "\n",
    "formal:\n",
    "The parameter used in function definition statement which contain data type on its time of declaration is called formal parameter.'''"
   ]
  },
  {
   "cell_type": "markdown",
   "id": "1cf03b41-e18b-49b1-ab1a-1a768be8369b",
   "metadata": {},
   "source": [
    "2. Write a Python program that defines a function with default argument values."
   ]
  },
  {
   "cell_type": "code",
   "execution_count": 29,
   "id": "59897e5f-b62c-4a47-bfbe-2ea5e65b67ec",
   "metadata": {},
   "outputs": [
    {
     "name": "stdout",
     "output_type": "stream",
     "text": [
      "Hello, Anmol!\n",
      "Hi, Naitik!\n"
     ]
    }
   ],
   "source": [
    "def greet(name, greeting=\"Hello\"):\n",
    "    message = f\"{greeting}, {name}!\"\n",
    "    return message\n",
    "\n",
    "# Example usage:\n",
    "person1 = \"Anmol\"\n",
    "person2 = \"Naitik\"\n",
    "\n",
    "greeting_message1 = greet(person1)\n",
    "greeting_message2 = greet(person2, greeting=\"Hi\")\n",
    "\n",
    "print(greeting_message1)\n",
    "print(greeting_message2)\n"
   ]
  },
  {
   "cell_type": "markdown",
   "id": "2de7d836-edb9-43d0-bb8e-fd33d8e09263",
   "metadata": {},
   "source": [
    "3. How do you use keyword arguments in Python function calls? Provide an example."
   ]
  },
  {
   "cell_type": "code",
   "execution_count": 30,
   "id": "e1b65d03-dce5-4d5d-bec2-7e3e9a69ca0a",
   "metadata": {},
   "outputs": [
    {
     "name": "stdout",
     "output_type": "stream",
     "text": [
      "Name: Alice, Age: 25, City: New York\n",
      "Name: Bob, Age: 30, City: Paris\n"
     ]
    }
   ],
   "source": [
    "'''whenever we pass the arguments(or value) by their parameter names at the time of calling the function in Python in\n",
    " which if you change the position of arguments then there will be no change in the output.'''\n",
    "\n",
    "def display_info(name, age, city):\n",
    "    print(f\"Name: {name}, Age: {age}, City: {city}\")\n",
    "\n",
    "# Using named arguments, order doesn't matter\n",
    "display_info(name=\"Alice\", age=25, city=\"New York\")\n",
    "display_info(city=\"Paris\", name=\"Bob\", age=30)\n"
   ]
  },
  {
   "cell_type": "markdown",
   "id": "05f57bb0-0ca8-4d47-a5ad-43c16910be2d",
   "metadata": {},
   "source": [
    "4. Create a Python function that accepts a variable number of arguments and calculates their sum."
   ]
  },
  {
   "cell_type": "code",
   "execution_count": 31,
   "id": "b5b080ee-a09a-4f32-9241-9beb95572653",
   "metadata": {},
   "outputs": [
    {
     "name": "stdout",
     "output_type": "stream",
     "text": [
      "6\n",
      "150\n"
     ]
    }
   ],
   "source": [
    "def calculate_sum(*args):\n",
    "    total = 0\n",
    "    for num in args:\n",
    "        total += num\n",
    "    return total\n",
    "\n",
    "# Example usage:\n",
    "result1 = calculate_sum(1, 2, 3)\n",
    "result2 = calculate_sum(10, 20, 30, 40, 50)\n",
    "\n",
    "print(result1)  # Output: 6\n",
    "print(result2)  # Output: 150"
   ]
  },
  {
   "cell_type": "markdown",
   "id": "45f58e92-0c8e-4d8e-9d2d-9af0168eec50",
   "metadata": {},
   "source": [
    "5. What is the purpose of the args and *kwargs syntax in function parameter lists?"
   ]
  },
  {
   "cell_type": "code",
   "execution_count": 34,
   "id": "f10d6b47-7835-4e1a-b255-6a6bba6f2a28",
   "metadata": {},
   "outputs": [
    {
     "name": "stdout",
     "output_type": "stream",
     "text": [
      "1\n",
      "2\n",
      "3\n",
      "four\n"
     ]
    }
   ],
   "source": [
    "'''*args passes variable number of non-keyworded arguments and on which operation of the tuple can be performed.\n",
    " **kwargs passes variable number of keyword arguments dictionary to function on which operation of a dictionary can be performed.'''\n",
    "\n",
    "def print_args(*args):\n",
    "    for arg in args:\n",
    "        print(arg)\n",
    "\n",
    "print_args(1, 2, 3, \"four\")\n"
   ]
  },
  {
   "cell_type": "markdown",
   "id": "98b2b06b-310c-4eed-bbf7-93f211661833",
   "metadata": {},
   "source": [
    "Return Values and Scoping"
   ]
  },
  {
   "cell_type": "markdown",
   "id": "182db065-7216-4a27-9992-46340612a325",
   "metadata": {},
   "source": [
    "1. Describe the role of the return statement in Python functions and provide examples."
   ]
  },
  {
   "cell_type": "code",
   "execution_count": 35,
   "id": "2431513d-716c-4f90-9afd-e772149c2db3",
   "metadata": {},
   "outputs": [
    {
     "data": {
      "text/plain": [
       "7"
      ]
     },
     "execution_count": 35,
     "metadata": {},
     "output_type": "execute_result"
    }
   ],
   "source": [
    "''' Return is used to print the result obtained from the provided operation.\n",
    "it returns the data in the same datatype without converting it.'''\n",
    "\n",
    "## for example:\n",
    "def add(a,b):\n",
    "    return a+b ## returns the result.\n",
    "\n",
    "## call function:\n",
    "add(3,4)"
   ]
  },
  {
   "cell_type": "markdown",
   "id": "817c1580-0a3a-4822-8fee-735c9fec8417",
   "metadata": {},
   "source": [
    "2. Explain the concept of variable scope in Python, including local and global variables."
   ]
  },
  {
   "cell_type": "code",
   "execution_count": 36,
   "id": "6583fcd4-df01-43f7-aa8f-97c3b80d9292",
   "metadata": {},
   "outputs": [
    {
     "data": {
      "text/plain": [
       "' A  variable is only available from inside the region it is created. This is called scope.\\n\\nPython Global variables are those which are not defined inside any function\\n and have a global scope whereas Python local variables are those which are\\n  defined inside a function and their scope is limited to that function only.'"
      ]
     },
     "execution_count": 36,
     "metadata": {},
     "output_type": "execute_result"
    }
   ],
   "source": [
    "''' A  variable is only available from inside the region it is created. This is called scope.\n",
    "\n",
    "Python Global variables are those which are not defined inside any function\n",
    " and have a global scope whereas Python local variables are those which are\n",
    "  defined inside a function and their scope is limited to that function only.'''"
   ]
  },
  {
   "cell_type": "code",
   "execution_count": 37,
   "id": "e42b5b58-1a67-4a6d-a5ed-427f88854414",
   "metadata": {},
   "outputs": [
    {
     "ename": "NameError",
     "evalue": "name 'l' is not defined",
     "output_type": "error",
     "traceback": [
      "\u001b[0;31m---------------------------------------------------------------------------\u001b[0m",
      "\u001b[0;31mNameError\u001b[0m                                 Traceback (most recent call last)",
      "Cell \u001b[0;32mIn[37], line 1\u001b[0m\n\u001b[0;32m----> 1\u001b[0m \u001b[43ml\u001b[49m    \u001b[38;5;66;03m## it is giving error ,we cant call it outside the function.\u001b[39;00m\n",
      "\u001b[0;31mNameError\u001b[0m: name 'l' is not defined"
     ]
    }
   ],
   "source": [
    "l    ## it is giving error ,we cant call it outside the function."
   ]
  },
  {
   "cell_type": "code",
   "execution_count": 39,
   "id": "d0863635-a882-4ccc-b4b4-583a6cf60f57",
   "metadata": {},
   "outputs": [
    {
     "data": {
      "text/plain": [
       "20"
      ]
     },
     "execution_count": 39,
     "metadata": {},
     "output_type": "execute_result"
    }
   ],
   "source": [
    "## example for global variable:\n",
    "\n",
    "l = 20 # global\n",
    "\n",
    "def test1():\n",
    "    return l\n",
    "\n",
    "## call function:\n",
    "test1()"
   ]
  },
  {
   "cell_type": "code",
   "execution_count": 40,
   "id": "0b4ec131-b865-4ae1-87b4-3bfedcbaf54b",
   "metadata": {},
   "outputs": [
    {
     "data": {
      "text/plain": [
       "20"
      ]
     },
     "execution_count": 40,
     "metadata": {},
     "output_type": "execute_result"
    }
   ],
   "source": [
    "l  ## it is global variable because we can call it outside the function."
   ]
  },
  {
   "cell_type": "markdown",
   "id": "0c87edc6-1b47-4af1-b4f3-d8d4223fbcbc",
   "metadata": {},
   "source": [
    "3. Write a Python program that demonstrates the use of global variables within functions.\n"
   ]
  },
  {
   "cell_type": "code",
   "execution_count": 41,
   "id": "1cb24d20-68e3-4588-952a-8507d2a2675c",
   "metadata": {},
   "outputs": [
    {
     "name": "stdout",
     "output_type": "stream",
     "text": [
      "Inside the function: global_var = 11\n",
      "Outside the function: global_var = 11\n"
     ]
    }
   ],
   "source": [
    "# Global variable\n",
    "global_var = 10\n",
    "\n",
    "def increment_global():\n",
    "    # Access the global variable within the function\n",
    "    global global_var\n",
    "    global_var += 1\n",
    "    print(\"Inside the function: global_var =\", global_var)\n",
    "\n",
    "# Call the function\n",
    "increment_global()\n",
    "\n",
    "# Outside the function, the global variable retains its value\n",
    "print(\"Outside the function: global_var =\", global_var)\n"
   ]
  },
  {
   "cell_type": "markdown",
   "id": "8efc9c40-f500-4e8f-8050-4888b3d25599",
   "metadata": {},
   "source": [
    "4. Create a Python function that calculates the factorial of a number and returns it."
   ]
  },
  {
   "cell_type": "code",
   "execution_count": 42,
   "id": "802de350-5d70-4618-a986-c33413248456",
   "metadata": {},
   "outputs": [
    {
     "name": "stdout",
     "output_type": "stream",
     "text": [
      "The factorial of 5 is: 120\n"
     ]
    }
   ],
   "source": [
    "def factorial(n):\n",
    "    if n == 0 or n == 1:\n",
    "        return 1\n",
    "    else:\n",
    "        return n * factorial(n - 1)\n",
    "\n",
    "# Example usage:\n",
    "result = factorial(5)\n",
    "print(f\"The factorial of 5 is: {result}\")\n"
   ]
  },
  {
   "cell_type": "markdown",
   "id": "232d7d69-db7e-4bc1-aa25-52b1a09f6168",
   "metadata": {},
   "source": [
    "5. How can you access variables defined outside a function from within the function?"
   ]
  },
  {
   "cell_type": "code",
   "execution_count": 43,
   "id": "de335097-e706-4002-a533-630ab531373a",
   "metadata": {},
   "outputs": [
    {
     "name": "stdout",
     "output_type": "stream",
     "text": [
      "Accessing global_var: 20\n"
     ]
    }
   ],
   "source": [
    "# Define a global variable\n",
    "global_var = 20\n",
    "\n",
    "# Function that accesses the global variable\n",
    "def access_global_variable():\n",
    "    global global_var  # Use the 'global' keyword to indicate we're referring to the global variable\n",
    "    print(\"Accessing global_var:\", global_var)\n",
    "\n",
    "# Call the function\n",
    "access_global_variable()"
   ]
  },
  {
   "cell_type": "markdown",
   "id": "fe159afb-18a1-41e7-9c99-8cf57fb04787",
   "metadata": {},
   "source": [
    "Lambda Functions and Higher-Order Functions:"
   ]
  },
  {
   "cell_type": "markdown",
   "id": "c57adca8-072c-44eb-beae-a4c6c8873ab2",
   "metadata": {},
   "source": [
    "1. What are lambda functions in Python, and when are they typically used?"
   ]
  },
  {
   "cell_type": "code",
   "execution_count": 44,
   "id": "fb32608b-9f41-40d8-bd1e-28e22899e712",
   "metadata": {},
   "outputs": [
    {
     "data": {
      "text/plain": [
       "6"
      ]
     },
     "execution_count": 44,
     "metadata": {},
     "output_type": "execute_result"
    }
   ],
   "source": [
    "'''Lambda Function, also referred to as ‘Anonymous function’ is same as a regular python function but can be defined without a name.\n",
    "While normal functions are defined using the def keyword, anonymous functions are defined using the lambda keyword.\n",
    "However,they are restricted to single line of expression. They can take in mutliple parameters as in regular functions.'''\n",
    "\n",
    "## for example :\n",
    "test2 = lambda a,b:a*b    ## lambda function is really short than the normal function defination.\n",
    "\n",
    "## function call :\n",
    "test2(2,3)"
   ]
  },
  {
   "cell_type": "markdown",
   "id": "383506c3-e549-49f8-b7b7-0d1d66e87194",
   "metadata": {},
   "source": [
    "2. Write a Python program that uses lambda functions to sort a list of tuples based on the second element."
   ]
  },
  {
   "cell_type": "code",
   "execution_count": 46,
   "id": "76448534-2bdc-451e-b976-c87002ffe90f",
   "metadata": {},
   "outputs": [
    {
     "name": "stdout",
     "output_type": "stream",
     "text": [
      "('David', 22)\n",
      "('Charlie', 32)\n",
      "('Alice', 34)\n",
      "('Bob', 48)\n"
     ]
    }
   ],
   "source": [
    "# List of tuples\n",
    "students = [(\"Alice\", 34), (\"Bob\", 48), (\"Charlie\", 32), (\"David\", 22)]\n",
    "\n",
    "# Sort the list based on the second element of each tuple using a lambda function\n",
    "sorted_students = sorted(students, key=lambda student: student[1])\n",
    "\n",
    "# Print the sorted list\n",
    "for student in sorted_students:\n",
    "    print(student)"
   ]
  },
  {
   "cell_type": "markdown",
   "id": "aae418b6-17be-4275-b80d-cabb22e08d2e",
   "metadata": {},
   "source": [
    "3. Explain the concept of higher-order functions in Python, and provide an example."
   ]
  },
  {
   "cell_type": "code",
   "execution_count": 47,
   "id": "4dbb25f8-32a3-4e7e-9e85-aa2829215e74",
   "metadata": {},
   "outputs": [
    {
     "name": "stdout",
     "output_type": "stream",
     "text": [
      "Squared numbers: [1, 4, 9, 16]\n",
      "Cubed numbers: [1, 8, 27, 64]\n"
     ]
    }
   ],
   "source": [
    "# Higher-order function example: map\n",
    "def square(x):\n",
    "    return x ** 2\n",
    "\n",
    "def cube(x):\n",
    "    return x ** 3\n",
    "\n",
    "def apply_operation(operation, numbers):\n",
    "    result = []\n",
    "    for number in numbers:\n",
    "        result.append(operation(number))\n",
    "    return result\n",
    "\n",
    "numbers = [1, 2, 3, 4]\n",
    "\n",
    "# Using apply_operation with square function\n",
    "squared_numbers = apply_operation(square, numbers)\n",
    "print(\"Squared numbers:\", squared_numbers)\n",
    "\n",
    "# Using apply_operation with cube function\n",
    "cubed_numbers = apply_operation(cube, numbers)\n",
    "print(\"Cubed numbers:\", cubed_numbers)\n"
   ]
  },
  {
   "cell_type": "markdown",
   "id": "1ae40e4d-109d-447e-8146-7b06f8f9ce7d",
   "metadata": {},
   "source": [
    "4. create a Python function that takes a list of numbers and a function as arguments, applying the function to each element in the list."
   ]
  },
  {
   "cell_type": "code",
   "execution_count": 48,
   "id": "5a096283-1eda-4865-8e2f-9350a8c812d3",
   "metadata": {},
   "outputs": [
    {
     "name": "stdout",
     "output_type": "stream",
     "text": [
      "Squared numbers: [1, 4, 9, 16, 25]\n",
      "Doubled numbers: [2, 4, 6, 8, 10]\n"
     ]
    }
   ],
   "source": [
    "def apply_function_to_list(func, numbers):\n",
    "    \"\"\"\n",
    "    Apply the given function to each element in the list of numbers.\n",
    "\n",
    "    Args:\n",
    "        func (function): The function to apply.\n",
    "        numbers (list): The list of numbers.\n",
    "\n",
    "    Returns:\n",
    "        list: A new list containing the results of applying the function to each element.\n",
    "    \"\"\"\n",
    "    result = []\n",
    "    for number in numbers:\n",
    "        result.append(func(number))\n",
    "    return result\n",
    "\n",
    "# Example functions\n",
    "def square(x):\n",
    "    return x ** 2\n",
    "\n",
    "def double(x):\n",
    "    return x * 2\n",
    "\n",
    "# Example usage:\n",
    "numbers = [1, 2, 3, 4, 5]\n",
    "\n",
    "# Apply the square function to each element in the list\n",
    "squared_numbers = apply_function_to_list(square, numbers)\n",
    "print(\"Squared numbers:\", squared_numbers)\n",
    "\n",
    "# Apply the double function to each element in the list\n",
    "doubled_numbers = apply_function_to_list(double, numbers)\n",
    "print(\"Doubled numbers:\", doubled_numbers)"
   ]
  },
  {
   "cell_type": "markdown",
   "id": "91585ead-59b5-4719-a076-2118148b29f3",
   "metadata": {},
   "source": [
    "Built-in Functions:"
   ]
  },
  {
   "cell_type": "markdown",
   "id": "8817b6f9-7818-4cfe-9661-a2e8817f31b4",
   "metadata": {},
   "source": [
    "1. Describe the role of built-in functions like `len()`, `max()`, and `min()` in Python."
   ]
  },
  {
   "cell_type": "code",
   "execution_count": 53,
   "id": "ab150f1b-7d2f-47a3-868b-587d46a24cf2",
   "metadata": {},
   "outputs": [
    {
     "name": "stdout",
     "output_type": "stream",
     "text": [
      "number of elements present  5\n",
      "greatest element 10\n",
      "smallest element 2\n"
     ]
    }
   ],
   "source": [
    "my_list = [1, 2, 3, 4, 5]\n",
    "length_of_list = len(my_list)\n",
    "print(\"number of elements present \",length_of_list)  # Output: 5\n",
    "\n",
    "\n",
    "my_list = [3, 8, 2, 10, 5]\n",
    "max_value = max(my_list)\n",
    "print(\"greatest element\",max_value)  # Output: 10\n",
    "\n",
    "\n",
    "min_value = min(my_list)\n",
    "print(\"smallest element\",min_value)  # Output: 2\n"
   ]
  },
  {
   "cell_type": "markdown",
   "id": "07d82e6b-9006-4a19-bfd4-f53a281010c9",
   "metadata": {},
   "source": [
    "2. Write a Python program that uses the map() function to apply a function to each element of a list."
   ]
  },
  {
   "cell_type": "code",
   "execution_count": 54,
   "id": "df956c7f-cddb-4a6d-911f-8176d53a3e4e",
   "metadata": {},
   "outputs": [
    {
     "name": "stdout",
     "output_type": "stream",
     "text": [
      "Original numbers: [1, 2, 3, 4, 5]\n",
      "Squared numbers: [1, 4, 9, 16, 25]\n"
     ]
    }
   ],
   "source": [
    "# Define a function to square a number\n",
    "def square(x):\n",
    "    return x ** 2\n",
    "\n",
    "# List of numbers\n",
    "numbers = [1, 2, 3, 4, 5]\n",
    "\n",
    "# Use the map() function to apply the square function to each element in the list\n",
    "squared_numbers = map(square, numbers)\n",
    "\n",
    "# Convert the result to a list (optional, as map() returns a map object in Python 3)\n",
    "squared_numbers_list = list(squared_numbers)\n",
    "\n",
    "# Print the original list and the squared numbers\n",
    "print(\"Original numbers:\", numbers)\n",
    "print(\"Squared numbers:\", squared_numbers_list)"
   ]
  },
  {
   "cell_type": "markdown",
   "id": "e9202a05-8b79-4915-bf28-92b10c96a0a9",
   "metadata": {},
   "source": [
    "3. How does the filter() function work in Python, and when would you use it?"
   ]
  },
  {
   "cell_type": "code",
   "execution_count": 55,
   "id": "d3b59e50-c2fa-47d2-9ea9-b939d73f60fd",
   "metadata": {},
   "outputs": [
    {
     "name": "stdout",
     "output_type": "stream",
     "text": [
      "Original numbers: [1, 2, 3, 4, 5, 6, 7, 8, 9, 10]\n",
      "Even numbers: [2, 4, 6, 8, 10]\n"
     ]
    }
   ],
   "source": [
    "# Define a function to filter even numbers\n",
    "def is_even(x):\n",
    "    return x % 2 == 0\n",
    "\n",
    "# List of numbers\n",
    "numbers = [1, 2, 3, 4, 5, 6, 7, 8, 9, 10]\n",
    "\n",
    "# Use the filter() function to filter even numbers from the list\n",
    "even_numbers = filter(is_even, numbers)\n",
    "\n",
    "# Convert the result to a list (optional, as filter() returns a filter object in Python 3)\n",
    "even_numbers_list = list(even_numbers)\n",
    "\n",
    "# Print the original list and the filtered even numbers\n",
    "print(\"Original numbers:\", numbers)\n",
    "print(\"Even numbers:\", even_numbers_list)"
   ]
  },
  {
   "cell_type": "markdown",
   "id": "cd271315-f1f3-42c3-a804-3b90946ee4d3",
   "metadata": {},
   "source": [
    "4. Create a Python program that uses the reduce() function to find the product of all elements in a list."
   ]
  },
  {
   "cell_type": "code",
   "execution_count": 56,
   "id": "e8bb1209-d354-4984-b949-fa4409e67341",
   "metadata": {},
   "outputs": [
    {
     "name": "stdout",
     "output_type": "stream",
     "text": [
      "Original numbers: [1, 2, 3, 4, 5]\n",
      "Product: 120\n"
     ]
    }
   ],
   "source": [
    "# Import the reduce function from the functools module\n",
    "from functools import reduce\n",
    "\n",
    "# Define a function to calculate the product of two numbers\n",
    "def multiply(x, y):\n",
    "    return x * y\n",
    "\n",
    "# List of numbers\n",
    "numbers = [1, 2, 3, 4, 5]\n",
    "\n",
    "# Use the reduce() function to find the product of all elements in the list\n",
    "product = reduce(multiply, numbers)\n",
    "\n",
    "# Print the original list and the product\n",
    "print(\"Original numbers:\", numbers)\n",
    "print(\"Product:\", product)"
   ]
  },
  {
   "cell_type": "markdown",
   "id": "148aa5c3-ea53-41a0-8a9b-2def733bf65e",
   "metadata": {},
   "source": [
    "Function Documentation and Best Practices"
   ]
  },
  {
   "cell_type": "code",
   "execution_count": 58,
   "id": "7a591cf9-e5a7-4cd1-8c4c-f036f0f09477",
   "metadata": {},
   "outputs": [],
   "source": [
    "## docstrings are written to make it clear that what the function do. it is used to clarify\n",
    "## the working of the respective function.\n",
    "\n",
    "## for example:\n",
    "\n",
    "def add(a, b):\n",
    "    \"\"\"\n",
    "    This function adds two numbers.\n",
    "\n",
    "    Args:\n",
    "        a (int): The first number.\n",
    "        b (int): The second number.\n",
    "\n",
    "    Returns:\n",
    "        int: The sum of a and b.\n",
    "\n",
    "    Example:\n",
    "        >>> add(2, 3)\n",
    "        5\n",
    "    \"\"\"\n",
    "    return a + b"
   ]
  },
  {
   "cell_type": "code",
   "execution_count": 59,
   "id": "643db76a-81fb-47a3-9a31-9adfc45f9257",
   "metadata": {},
   "outputs": [
    {
     "data": {
      "text/plain": [
       "5"
      ]
     },
     "execution_count": 59,
     "metadata": {},
     "output_type": "execute_result"
    }
   ],
   "source": [
    "add(2,3)"
   ]
  },
  {
   "cell_type": "markdown",
   "id": "1cc573ba-bc74-4680-b315-aa957972499e",
   "metadata": {},
   "source": [
    "2. Describe some best practices for naming functions and variables in Python, including naming conventions and guidelines."
   ]
  },
  {
   "cell_type": "code",
   "execution_count": 60,
   "id": "1c83440e-a3dd-4c39-969d-eded629fd89a",
   "metadata": {},
   "outputs": [],
   "source": [
    "'''1. Use descriptive and meaningful names\n",
    "Variable names should be descriptive and meaningful. They should describe what the variable represents or contains.\n",
    "For example, if you are writing a program that calculates the area of a circle, you might name your variable \"radius\" or \"area\".\n",
    " Avoid using generic or meaningless names such as \"x\" or \"temp\".\n",
    "\n",
    "2. Follow a consistent naming convention\n",
    "It's important to follow a consistent naming convention to make your code more readable and understandable.\n",
    "There are several naming conventions that you can follow, but the most common ones are:\n",
    "\n",
    "CamelCase: This convention capitalizes the first letter of each word except for the first word. For example, \"firstName\" or \"lastName\".\n",
    "snake_case: This convention uses underscores to separate words. For example, \"first_name\" or \"last_name\".\n",
    "Choose a naming convention and stick to it throughout your code.\n",
    "3. Avoid reserved keywords\n",
    "Avoid using reserved keywords as variable names. Python has several reserved keywords that have special meanings in the language.\n",
    " Using reserved keywords as variable names can cause syntax errors and make your code hard to read. Some examples of reserved keywords are \"if\", \"while\", \"for\", and \"print\".\n",
    "\n",
    "4. Don't use abbreviations\n",
    "Avoid using abbreviations in your variable names. Abbreviations can be confusing and may not be understandable to other developers. Instead, use full and descriptive names.\n",
    "\n",
    "5. Be mindful of variable scope\n",
    "Be mindful of the scope of your variables. Variables should be defined in the smallest possible scope to avoid naming conflicts and improve readability.\n",
    "For example, if you have a function that uses a variable, define that variable inside the function instead of at the global level.'''\n",
    "\n",
    "## for example:\n",
    "first_name = \"Anmol\"\n",
    "last_name = \"Mehta\"\n",
    "age = \"25\""
   ]
  },
  {
   "cell_type": "code",
   "execution_count": null,
   "id": "83ca77c4-906f-4ca4-bc10-57f1197ac152",
   "metadata": {},
   "outputs": [],
   "source": []
  }
 ],
 "metadata": {
  "kernelspec": {
   "display_name": "Python 3 (ipykernel)",
   "language": "python",
   "name": "python3"
  },
  "language_info": {
   "codemirror_mode": {
    "name": "ipython",
    "version": 3
   },
   "file_extension": ".py",
   "mimetype": "text/x-python",
   "name": "python",
   "nbconvert_exporter": "python",
   "pygments_lexer": "ipython3",
   "version": "3.10.8"
  }
 },
 "nbformat": 4,
 "nbformat_minor": 5
}
